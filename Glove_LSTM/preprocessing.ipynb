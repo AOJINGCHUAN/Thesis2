{
 "cells": [
  {
   "cell_type": "code",
   "execution_count": null,
   "id": "canadian-timothy",
   "metadata": {},
   "outputs": [],
   "source": [
    "# Read the train and test set\n",
    "train = pd.read_csv('/Users/mac/Desktop/Thesis2/IMDB_dataset/Train.csv',nrows=10000)\n",
    "test = pd.read_csv('/Users/mac/Desktop/Thesis2/IMDB_dataset/Test.csv',nrows=1000)\n",
    "train.shape,test.shape"
   ]
  },
  {
   "cell_type": "code",
   "execution_count": null,
   "id": "solved-festival",
   "metadata": {},
   "outputs": [],
   "source": [
    "#remove punctuation marks\n",
    "punctuation = '!\"#$%&()*+-/:;.,<=>?@[\\\\]^_`{|}~'\n",
    "train['cleand'] = train['text'].apply(lambda x: ''.join(ch for ch in x if ch not in set(punctuation)))\n",
    "test['cleand'] = test['text'].apply(lambda x: ''.join(ch for ch in x if ch not in set(punctuation)))"
   ]
  },
  {
   "cell_type": "code",
   "execution_count": null,
   "id": "fiscal-confidence",
   "metadata": {},
   "outputs": [],
   "source": [
    "# convert text to lowercase\n",
    "train['cleand'] = train['cleand'].str.lower()\n",
    "test['cleand'] = test['cleand'].str.lower()"
   ]
  },
  {
   "cell_type": "code",
   "execution_count": null,
   "id": "provincial-processing",
   "metadata": {},
   "outputs": [],
   "source": [
    "# import spaCy's language model\n",
    "# nlp = spacy.load('en', disable=['parser', 'ner'])\n",
    "# nlp = spacy.load('en_core_web_sm')\n",
    "nlp = spacy.load('/Users/mac/opt/anaconda3/envs/tensorflow1.15/lib/python3.6/site-packages/en_core_web_sm/en_core_web_sm-2.3.1')\n",
    "# nlp = spacy.load(\"en\")\n",
    "# function to lemmatize text\n",
    "def lemmatization(texts):\n",
    "    output = []\n",
    "    for i in texts:\n",
    "        s = [token.lemma_ for token in nlp(i)]\n",
    "        output.append(' '.join(s))\n",
    "    return output\n",
    "\n",
    "train['cleand'] = lemmatization(train['cleand'])\n",
    "test['cleand'] = lemmatization(test['cleand'])"
   ]
  },
  {
   "cell_type": "code",
   "execution_count": null,
   "id": "compatible-bread",
   "metadata": {},
   "outputs": [],
   "source": [
    "train = train.drop(['text','cleand_imdb'],axis=1)\n",
    "test = test.drop(['text','cleand_imdb'],axis=1)"
   ]
  },
  {
   "cell_type": "code",
   "execution_count": null,
   "id": "fewer-wallpaper",
   "metadata": {},
   "outputs": [],
   "source": [
    "train.to_csv('/Users/mac/Desktop/Train_cleaned.csv',index=False,header=False)\n",
    "test.to_csv('/Users/mac/Desktop/Test_cleaned.csv',index=False,header=False)"
   ]
  },
  {
   "cell_type": "code",
   "execution_count": null,
   "id": "tribal-count",
   "metadata": {},
   "outputs": [],
   "source": [
    "#############################"
   ]
  },
  {
   "cell_type": "code",
   "execution_count": null,
   "id": "closed-mechanism",
   "metadata": {},
   "outputs": [],
   "source": [
    "# Read the train and test set\n",
    "train = pd.read_csv('/Users/mac/Desktop/Thesis2/Glove_LSTM/preprocess_data/Train_cleaned.csv',names= ['label','text'],header = None)\n",
    "test = pd.read_csv('/Users/mac/Desktop/Thesis2/Glove_LSTM/preprocess_data/Test_cleaned.csv',names = ['label','text'],header = None)\n",
    "train.shape,test.shape"
   ]
  },
  {
   "cell_type": "code",
   "execution_count": null,
   "id": "addressed-kidney",
   "metadata": {},
   "outputs": [],
   "source": [
    "comments_train = train['text']\n",
    "comments_test = test['text']\n",
    "train_label = train['label']\n",
    "test_label = test['label']"
   ]
  },
  {
   "cell_type": "code",
   "execution_count": null,
   "id": "killing-hollywood",
   "metadata": {},
   "outputs": [],
   "source": [
    "def clean_text(text):\n",
    "    output = \"\"\n",
    "    text = str(text).replace(\"-PRON-\", \"\")\n",
    "    text = text.split(\" \")\n",
    "    for word in text:\n",
    "        if word not in stopwords.words(\"english\"):\n",
    "            output = output + \" \" + word\n",
    "    return str(output.strip())[1:-3].replace(\"  \", \" \")"
   ]
  },
  {
   "cell_type": "code",
   "execution_count": null,
   "id": "beautiful-reality",
   "metadata": {},
   "outputs": [],
   "source": [
    "import nltk\n",
    "nltk.download('stopwords')"
   ]
  },
  {
   "cell_type": "code",
   "execution_count": null,
   "id": "friendly-dialogue",
   "metadata": {},
   "outputs": [],
   "source": [
    "texts_train= [] \n",
    "for line in comments_train: \n",
    "    texts_train.append(clean_text(line))"
   ]
  },
  {
   "cell_type": "code",
   "execution_count": null,
   "id": "legendary-comfort",
   "metadata": {},
   "outputs": [],
   "source": [
    "texts_test= [] \n",
    "for line in comments_test: \n",
    "    texts_test.append(clean_text(line))"
   ]
  },
  {
   "cell_type": "code",
   "execution_count": null,
   "id": "graphic-fetish",
   "metadata": {},
   "outputs": [],
   "source": [
    "name=['text']\n",
    "train_data=pd.DataFrame(columns=name,data=texts_train)\n",
    "test_data=pd.DataFrame(columns=name,data=texts_train)"
   ]
  },
  {
   "cell_type": "code",
   "execution_count": null,
   "id": "miniature-gospel",
   "metadata": {},
   "outputs": [],
   "source": [
    "train_final = pd.concat([train_data, train_label], axis=1)\n",
    "test_final = pd.concat([test_data, test_label], axis=1)"
   ]
  },
  {
   "cell_type": "code",
   "execution_count": null,
   "id": "egyptian-cleaning",
   "metadata": {},
   "outputs": [],
   "source": [
    "train.to_csv('/Users/mac/Desktop/Train_final.csv',index=False)\n",
    "test.to_csv('/Users/mac/Desktop/Test_final.csv',index=False)"
   ]
  },
  {
   "cell_type": "code",
   "execution_count": null,
   "id": "hourly-signature",
   "metadata": {},
   "outputs": [],
   "source": []
  },
  {
   "cell_type": "code",
   "execution_count": null,
   "id": "liable-unemployment",
   "metadata": {},
   "outputs": [],
   "source": []
  },
  {
   "cell_type": "code",
   "execution_count": 2,
   "id": "amber-diary",
   "metadata": {},
   "outputs": [
    {
     "ename": "NameError",
     "evalue": "name 'values' is not defined",
     "output_type": "error",
     "traceback": [
      "\u001b[0;31m---------------------------------------------------------------------------\u001b[0m",
      "\u001b[0;31mNameError\u001b[0m                                 Traceback (most recent call last)",
      "\u001b[0;32m<ipython-input-2-75b7cb8db097>\u001b[0m in \u001b[0;36m<module>\u001b[0;34m\u001b[0m\n\u001b[0;32m----> 1\u001b[0;31m \u001b[0mword\u001b[0m \u001b[0;34m=\u001b[0m \u001b[0mvalues\u001b[0m\u001b[0;34m[\u001b[0m\u001b[0;36m0\u001b[0m\u001b[0;34m]\u001b[0m\u001b[0;34m\u001b[0m\u001b[0;34m\u001b[0m\u001b[0m\n\u001b[0m",
      "\u001b[0;31mNameError\u001b[0m: name 'values' is not defined"
     ]
    }
   ],
   "source": [
    "word = values[0]"
   ]
  },
  {
   "cell_type": "code",
   "execution_count": null,
   "id": "imported-directive",
   "metadata": {},
   "outputs": [],
   "source": []
  },
  {
   "cell_type": "code",
   "execution_count": 1,
   "id": "unusual-pottery",
   "metadata": {},
   "outputs": [
    {
     "data": {
      "text/plain": [
       "array([1, 2, 3])"
      ]
     },
     "execution_count": 1,
     "metadata": {},
     "output_type": "execute_result"
    }
   ],
   "source": [
    "import pandas as pd\n",
    " \n",
    "data = [['2019/08/01', 10],\n",
    "        ['2019/08/01', 11]]\n",
    "result = pd.DataFrame(data, columns=['ds', 'val'])\n",
    "result['val'].values\n",
    " \n",
    "data2 = pd.Series([1, 2, 3])\n",
    "data2.values\n"
   ]
  },
  {
   "cell_type": "code",
   "execution_count": 4,
   "id": "wrapped-conversion",
   "metadata": {},
   "outputs": [
    {
     "data": {
      "text/plain": [
       "0    1\n",
       "1    5\n",
       "2    3\n",
       "dtype: int64"
      ]
     },
     "execution_count": 4,
     "metadata": {},
     "output_type": "execute_result"
    }
   ],
   "source": [
    "x = pd.Series([1, 5, 3])\n",
    "x"
   ]
  },
  {
   "cell_type": "code",
   "execution_count": 5,
   "id": "arranged-gardening",
   "metadata": {},
   "outputs": [
    {
     "data": {
      "text/html": [
       "<div>\n",
       "<style scoped>\n",
       "    .dataframe tbody tr th:only-of-type {\n",
       "        vertical-align: middle;\n",
       "    }\n",
       "\n",
       "    .dataframe tbody tr th {\n",
       "        vertical-align: top;\n",
       "    }\n",
       "\n",
       "    .dataframe thead th {\n",
       "        text-align: right;\n",
       "    }\n",
       "</style>\n",
       "<table border=\"1\" class=\"dataframe\">\n",
       "  <thead>\n",
       "    <tr style=\"text-align: right;\">\n",
       "      <th></th>\n",
       "      <th>ds</th>\n",
       "      <th>val</th>\n",
       "    </tr>\n",
       "  </thead>\n",
       "  <tbody>\n",
       "    <tr>\n",
       "      <th>0</th>\n",
       "      <td>2019/08/01</td>\n",
       "      <td>10</td>\n",
       "    </tr>\n",
       "    <tr>\n",
       "      <th>1</th>\n",
       "      <td>2019/08/01</td>\n",
       "      <td>11</td>\n",
       "    </tr>\n",
       "  </tbody>\n",
       "</table>\n",
       "</div>"
      ],
      "text/plain": [
       "           ds  val\n",
       "0  2019/08/01   10\n",
       "1  2019/08/01   11"
      ]
     },
     "execution_count": 5,
     "metadata": {},
     "output_type": "execute_result"
    }
   ],
   "source": [
    "result"
   ]
  },
  {
   "cell_type": "code",
   "execution_count": 6,
   "id": "verbal-broadway",
   "metadata": {},
   "outputs": [
    {
     "data": {
      "text/plain": [
       "array([10, 11])"
      ]
     },
     "execution_count": 6,
     "metadata": {},
     "output_type": "execute_result"
    }
   ],
   "source": [
    "result['val'].values"
   ]
  },
  {
   "cell_type": "code",
   "execution_count": null,
   "id": "hollywood-booking",
   "metadata": {},
   "outputs": [],
   "source": []
  }
 ],
 "metadata": {
  "kernelspec": {
   "display_name": "Python 3",
   "language": "python",
   "name": "python3"
  },
  "language_info": {
   "codemirror_mode": {
    "name": "ipython",
    "version": 3
   },
   "file_extension": ".py",
   "mimetype": "text/x-python",
   "name": "python",
   "nbconvert_exporter": "python",
   "pygments_lexer": "ipython3",
   "version": "3.6.13"
  }
 },
 "nbformat": 4,
 "nbformat_minor": 5
}
