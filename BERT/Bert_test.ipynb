{
  "nbformat": 4,
  "nbformat_minor": 0,
  "metadata": {
    "colab": {
      "name": "Bert_test.ipynb",
      "provenance": [],
      "collapsed_sections": []
    },
    "kernelspec": {
      "name": "python3",
      "display_name": "Python 3"
    },
    "accelerator": "GPU"
  },
  "cells": [
    {
      "cell_type": "code",
      "metadata": {
        "id": "xCuVb2vDns62",
        "colab": {
          "base_uri": "https://localhost:8080/"
        },
        "outputId": "4f80ff8d-77e0-42f9-c509-272fe7f46118"
      },
      "source": [
        "from google.colab import drive\n",
        "drive.mount(\"/content/drive/\")"
      ],
      "execution_count": 1,
      "outputs": [
        {
          "output_type": "stream",
          "text": [
            "Mounted at /content/drive/\n"
          ],
          "name": "stdout"
        }
      ]
    },
    {
      "cell_type": "code",
      "metadata": {
        "id": "ElLsO1XEUfeO",
        "colab": {
          "base_uri": "https://localhost:8080/"
        },
        "outputId": "e4d2306e-3457-457f-e598-e4dc0691177f"
      },
      "source": [
        "# A dependency of the preprocessing for BERT inputs\n",
        "!pip install -q tensorflow-text"
      ],
      "execution_count": 4,
      "outputs": [
        {
          "output_type": "stream",
          "text": [
            "\u001b[?25l\r\u001b[K     |                                | 10kB 29.5MB/s eta 0:00:01\r\u001b[K     |▏                               | 20kB 33.3MB/s eta 0:00:01\r\u001b[K     |▎                               | 30kB 21.8MB/s eta 0:00:01\r\u001b[K     |▍                               | 40kB 25.3MB/s eta 0:00:01\r\u001b[K     |▌                               | 51kB 23.7MB/s eta 0:00:01\r\u001b[K     |▋                               | 61kB 20.3MB/s eta 0:00:01\r\u001b[K     |▊                               | 71kB 19.7MB/s eta 0:00:01\r\u001b[K     |▉                               | 81kB 21.0MB/s eta 0:00:01\r\u001b[K     |▉                               | 92kB 19.1MB/s eta 0:00:01\r\u001b[K     |█                               | 102kB 18.7MB/s eta 0:00:01\r\u001b[K     |█                               | 112kB 18.7MB/s eta 0:00:01\r\u001b[K     |█▏                              | 122kB 18.7MB/s eta 0:00:01\r\u001b[K     |█▎                              | 133kB 18.7MB/s eta 0:00:01\r\u001b[K     |█▍                              | 143kB 18.7MB/s eta 0:00:01\r\u001b[K     |█▌                              | 153kB 18.7MB/s eta 0:00:01\r\u001b[K     |█▋                              | 163kB 18.7MB/s eta 0:00:01\r\u001b[K     |█▋                              | 174kB 18.7MB/s eta 0:00:01\r\u001b[K     |█▊                              | 184kB 18.7MB/s eta 0:00:01\r\u001b[K     |█▉                              | 194kB 18.7MB/s eta 0:00:01\r\u001b[K     |██                              | 204kB 18.7MB/s eta 0:00:01\r\u001b[K     |██                              | 215kB 18.7MB/s eta 0:00:01\r\u001b[K     |██▏                             | 225kB 18.7MB/s eta 0:00:01\r\u001b[K     |██▎                             | 235kB 18.7MB/s eta 0:00:01\r\u001b[K     |██▍                             | 245kB 18.7MB/s eta 0:00:01\r\u001b[K     |██▍                             | 256kB 18.7MB/s eta 0:00:01\r\u001b[K     |██▌                             | 266kB 18.7MB/s eta 0:00:01\r\u001b[K     |██▋                             | 276kB 18.7MB/s eta 0:00:01\r\u001b[K     |██▊                             | 286kB 18.7MB/s eta 0:00:01\r\u001b[K     |██▉                             | 296kB 18.7MB/s eta 0:00:01\r\u001b[K     |███                             | 307kB 18.7MB/s eta 0:00:01\r\u001b[K     |███                             | 317kB 18.7MB/s eta 0:00:01\r\u001b[K     |███▏                            | 327kB 18.7MB/s eta 0:00:01\r\u001b[K     |███▏                            | 337kB 18.7MB/s eta 0:00:01\r\u001b[K     |███▎                            | 348kB 18.7MB/s eta 0:00:01\r\u001b[K     |███▍                            | 358kB 18.7MB/s eta 0:00:01\r\u001b[K     |███▌                            | 368kB 18.7MB/s eta 0:00:01\r\u001b[K     |███▋                            | 378kB 18.7MB/s eta 0:00:01\r\u001b[K     |███▊                            | 389kB 18.7MB/s eta 0:00:01\r\u001b[K     |███▉                            | 399kB 18.7MB/s eta 0:00:01\r\u001b[K     |████                            | 409kB 18.7MB/s eta 0:00:01\r\u001b[K     |████                            | 419kB 18.7MB/s eta 0:00:01\r\u001b[K     |████                            | 430kB 18.7MB/s eta 0:00:01\r\u001b[K     |████▏                           | 440kB 18.7MB/s eta 0:00:01\r\u001b[K     |████▎                           | 450kB 18.7MB/s eta 0:00:01\r\u001b[K     |████▍                           | 460kB 18.7MB/s eta 0:00:01\r\u001b[K     |████▌                           | 471kB 18.7MB/s eta 0:00:01\r\u001b[K     |████▋                           | 481kB 18.7MB/s eta 0:00:01\r\u001b[K     |████▊                           | 491kB 18.7MB/s eta 0:00:01\r\u001b[K     |████▊                           | 501kB 18.7MB/s eta 0:00:01\r\u001b[K     |████▉                           | 512kB 18.7MB/s eta 0:00:01\r\u001b[K     |█████                           | 522kB 18.7MB/s eta 0:00:01\r\u001b[K     |█████                           | 532kB 18.7MB/s eta 0:00:01\r\u001b[K     |█████▏                          | 542kB 18.7MB/s eta 0:00:01\r\u001b[K     |█████▎                          | 552kB 18.7MB/s eta 0:00:01\r\u001b[K     |█████▍                          | 563kB 18.7MB/s eta 0:00:01\r\u001b[K     |█████▌                          | 573kB 18.7MB/s eta 0:00:01\r\u001b[K     |█████▌                          | 583kB 18.7MB/s eta 0:00:01\r\u001b[K     |█████▋                          | 593kB 18.7MB/s eta 0:00:01\r\u001b[K     |█████▊                          | 604kB 18.7MB/s eta 0:00:01\r\u001b[K     |█████▉                          | 614kB 18.7MB/s eta 0:00:01\r\u001b[K     |██████                          | 624kB 18.7MB/s eta 0:00:01\r\u001b[K     |██████                          | 634kB 18.7MB/s eta 0:00:01\r\u001b[K     |██████▏                         | 645kB 18.7MB/s eta 0:00:01\r\u001b[K     |██████▎                         | 655kB 18.7MB/s eta 0:00:01\r\u001b[K     |██████▎                         | 665kB 18.7MB/s eta 0:00:01\r\u001b[K     |██████▍                         | 675kB 18.7MB/s eta 0:00:01\r\u001b[K     |██████▌                         | 686kB 18.7MB/s eta 0:00:01\r\u001b[K     |██████▋                         | 696kB 18.7MB/s eta 0:00:01\r\u001b[K     |██████▊                         | 706kB 18.7MB/s eta 0:00:01\r\u001b[K     |██████▉                         | 716kB 18.7MB/s eta 0:00:01\r\u001b[K     |███████                         | 727kB 18.7MB/s eta 0:00:01\r\u001b[K     |███████                         | 737kB 18.7MB/s eta 0:00:01\r\u001b[K     |███████                         | 747kB 18.7MB/s eta 0:00:01\r\u001b[K     |███████▏                        | 757kB 18.7MB/s eta 0:00:01\r\u001b[K     |███████▎                        | 768kB 18.7MB/s eta 0:00:01\r\u001b[K     |███████▍                        | 778kB 18.7MB/s eta 0:00:01\r\u001b[K     |███████▌                        | 788kB 18.7MB/s eta 0:00:01\r\u001b[K     |███████▋                        | 798kB 18.7MB/s eta 0:00:01\r\u001b[K     |███████▊                        | 808kB 18.7MB/s eta 0:00:01\r\u001b[K     |███████▉                        | 819kB 18.7MB/s eta 0:00:01\r\u001b[K     |███████▉                        | 829kB 18.7MB/s eta 0:00:01\r\u001b[K     |████████                        | 839kB 18.7MB/s eta 0:00:01\r\u001b[K     |████████                        | 849kB 18.7MB/s eta 0:00:01\r\u001b[K     |████████▏                       | 860kB 18.7MB/s eta 0:00:01\r\u001b[K     |████████▎                       | 870kB 18.7MB/s eta 0:00:01\r\u001b[K     |████████▍                       | 880kB 18.7MB/s eta 0:00:01\r\u001b[K     |████████▌                       | 890kB 18.7MB/s eta 0:00:01\r\u001b[K     |████████▋                       | 901kB 18.7MB/s eta 0:00:01\r\u001b[K     |████████▋                       | 911kB 18.7MB/s eta 0:00:01\r\u001b[K     |████████▊                       | 921kB 18.7MB/s eta 0:00:01\r\u001b[K     |████████▉                       | 931kB 18.7MB/s eta 0:00:01\r\u001b[K     |█████████                       | 942kB 18.7MB/s eta 0:00:01\r\u001b[K     |█████████                       | 952kB 18.7MB/s eta 0:00:01\r\u001b[K     |█████████▏                      | 962kB 18.7MB/s eta 0:00:01\r\u001b[K     |█████████▎                      | 972kB 18.7MB/s eta 0:00:01\r\u001b[K     |█████████▍                      | 983kB 18.7MB/s eta 0:00:01\r\u001b[K     |█████████▌                      | 993kB 18.7MB/s eta 0:00:01\r\u001b[K     |█████████▌                      | 1.0MB 18.7MB/s eta 0:00:01\r\u001b[K     |█████████▋                      | 1.0MB 18.7MB/s eta 0:00:01\r\u001b[K     |█████████▊                      | 1.0MB 18.7MB/s eta 0:00:01\r\u001b[K     |█████████▉                      | 1.0MB 18.7MB/s eta 0:00:01\r\u001b[K     |██████████                      | 1.0MB 18.7MB/s eta 0:00:01\r\u001b[K     |██████████                      | 1.1MB 18.7MB/s eta 0:00:01\r\u001b[K     |██████████▏                     | 1.1MB 18.7MB/s eta 0:00:01\r\u001b[K     |██████████▎                     | 1.1MB 18.7MB/s eta 0:00:01\r\u001b[K     |██████████▎                     | 1.1MB 18.7MB/s eta 0:00:01\r\u001b[K     |██████████▍                     | 1.1MB 18.7MB/s eta 0:00:01\r\u001b[K     |██████████▌                     | 1.1MB 18.7MB/s eta 0:00:01\r\u001b[K     |██████████▋                     | 1.1MB 18.7MB/s eta 0:00:01\r\u001b[K     |██████████▊                     | 1.1MB 18.7MB/s eta 0:00:01\r\u001b[K     |██████████▉                     | 1.1MB 18.7MB/s eta 0:00:01\r\u001b[K     |███████████                     | 1.1MB 18.7MB/s eta 0:00:01\r\u001b[K     |███████████                     | 1.2MB 18.7MB/s eta 0:00:01\r\u001b[K     |███████████                     | 1.2MB 18.7MB/s eta 0:00:01\r\u001b[K     |███████████▏                    | 1.2MB 18.7MB/s eta 0:00:01\r\u001b[K     |███████████▎                    | 1.2MB 18.7MB/s eta 0:00:01\r\u001b[K     |███████████▍                    | 1.2MB 18.7MB/s eta 0:00:01\r\u001b[K     |███████████▌                    | 1.2MB 18.7MB/s eta 0:00:01\r\u001b[K     |███████████▋                    | 1.2MB 18.7MB/s eta 0:00:01\r\u001b[K     |███████████▊                    | 1.2MB 18.7MB/s eta 0:00:01\r\u001b[K     |███████████▉                    | 1.2MB 18.7MB/s eta 0:00:01\r\u001b[K     |███████████▉                    | 1.2MB 18.7MB/s eta 0:00:01\r\u001b[K     |████████████                    | 1.3MB 18.7MB/s eta 0:00:01\r\u001b[K     |████████████                    | 1.3MB 18.7MB/s eta 0:00:01\r\u001b[K     |████████████▏                   | 1.3MB 18.7MB/s eta 0:00:01\r\u001b[K     |████████████▎                   | 1.3MB 18.7MB/s eta 0:00:01\r\u001b[K     |████████████▍                   | 1.3MB 18.7MB/s eta 0:00:01\r\u001b[K     |████████████▌                   | 1.3MB 18.7MB/s eta 0:00:01\r\u001b[K     |████████████▋                   | 1.3MB 18.7MB/s eta 0:00:01\r\u001b[K     |████████████▋                   | 1.3MB 18.7MB/s eta 0:00:01\r\u001b[K     |████████████▊                   | 1.3MB 18.7MB/s eta 0:00:01\r\u001b[K     |████████████▉                   | 1.4MB 18.7MB/s eta 0:00:01\r\u001b[K     |█████████████                   | 1.4MB 18.7MB/s eta 0:00:01\r\u001b[K     |█████████████                   | 1.4MB 18.7MB/s eta 0:00:01\r\u001b[K     |█████████████▏                  | 1.4MB 18.7MB/s eta 0:00:01\r\u001b[K     |█████████████▎                  | 1.4MB 18.7MB/s eta 0:00:01\r\u001b[K     |█████████████▍                  | 1.4MB 18.7MB/s eta 0:00:01\r\u001b[K     |█████████████▍                  | 1.4MB 18.7MB/s eta 0:00:01\r\u001b[K     |█████████████▌                  | 1.4MB 18.7MB/s eta 0:00:01\r\u001b[K     |█████████████▋                  | 1.4MB 18.7MB/s eta 0:00:01\r\u001b[K     |█████████████▊                  | 1.4MB 18.7MB/s eta 0:00:01\r\u001b[K     |█████████████▉                  | 1.5MB 18.7MB/s eta 0:00:01\r\u001b[K     |██████████████                  | 1.5MB 18.7MB/s eta 0:00:01\r\u001b[K     |██████████████                  | 1.5MB 18.7MB/s eta 0:00:01\r\u001b[K     |██████████████▏                 | 1.5MB 18.7MB/s eta 0:00:01\r\u001b[K     |██████████████▏                 | 1.5MB 18.7MB/s eta 0:00:01\r\u001b[K     |██████████████▎                 | 1.5MB 18.7MB/s eta 0:00:01\r\u001b[K     |██████████████▍                 | 1.5MB 18.7MB/s eta 0:00:01\r\u001b[K     |██████████████▌                 | 1.5MB 18.7MB/s eta 0:00:01\r\u001b[K     |██████████████▋                 | 1.5MB 18.7MB/s eta 0:00:01\r\u001b[K     |██████████████▊                 | 1.5MB 18.7MB/s eta 0:00:01\r\u001b[K     |██████████████▉                 | 1.6MB 18.7MB/s eta 0:00:01\r\u001b[K     |███████████████                 | 1.6MB 18.7MB/s eta 0:00:01\r\u001b[K     |███████████████                 | 1.6MB 18.7MB/s eta 0:00:01\r\u001b[K     |███████████████                 | 1.6MB 18.7MB/s eta 0:00:01\r\u001b[K     |███████████████▏                | 1.6MB 18.7MB/s eta 0:00:01\r\u001b[K     |███████████████▎                | 1.6MB 18.7MB/s eta 0:00:01\r\u001b[K     |███████████████▍                | 1.6MB 18.7MB/s eta 0:00:01\r\u001b[K     |███████████████▌                | 1.6MB 18.7MB/s eta 0:00:01\r\u001b[K     |███████████████▋                | 1.6MB 18.7MB/s eta 0:00:01\r\u001b[K     |███████████████▊                | 1.6MB 18.7MB/s eta 0:00:01\r\u001b[K     |███████████████▊                | 1.7MB 18.7MB/s eta 0:00:01\r\u001b[K     |███████████████▉                | 1.7MB 18.7MB/s eta 0:00:01\r\u001b[K     |████████████████                | 1.7MB 18.7MB/s eta 0:00:01\r\u001b[K     |████████████████                | 1.7MB 18.7MB/s eta 0:00:01\r\u001b[K     |████████████████▏               | 1.7MB 18.7MB/s eta 0:00:01\r\u001b[K     |████████████████▎               | 1.7MB 18.7MB/s eta 0:00:01\r\u001b[K     |████████████████▍               | 1.7MB 18.7MB/s eta 0:00:01\r\u001b[K     |████████████████▌               | 1.7MB 18.7MB/s eta 0:00:01\r\u001b[K     |████████████████▌               | 1.7MB 18.7MB/s eta 0:00:01\r\u001b[K     |████████████████▋               | 1.8MB 18.7MB/s eta 0:00:01\r\u001b[K     |████████████████▊               | 1.8MB 18.7MB/s eta 0:00:01\r\u001b[K     |████████████████▉               | 1.8MB 18.7MB/s eta 0:00:01\r\u001b[K     |█████████████████               | 1.8MB 18.7MB/s eta 0:00:01\r\u001b[K     |█████████████████               | 1.8MB 18.7MB/s eta 0:00:01\r\u001b[K     |█████████████████▏              | 1.8MB 18.7MB/s eta 0:00:01\r\u001b[K     |█████████████████▎              | 1.8MB 18.7MB/s eta 0:00:01\r\u001b[K     |█████████████████▎              | 1.8MB 18.7MB/s eta 0:00:01\r\u001b[K     |█████████████████▍              | 1.8MB 18.7MB/s eta 0:00:01\r\u001b[K     |█████████████████▌              | 1.8MB 18.7MB/s eta 0:00:01\r\u001b[K     |█████████████████▋              | 1.9MB 18.7MB/s eta 0:00:01\r\u001b[K     |█████████████████▊              | 1.9MB 18.7MB/s eta 0:00:01\r\u001b[K     |█████████████████▉              | 1.9MB 18.7MB/s eta 0:00:01\r\u001b[K     |██████████████████              | 1.9MB 18.7MB/s eta 0:00:01\r\u001b[K     |██████████████████              | 1.9MB 18.7MB/s eta 0:00:01\r\u001b[K     |██████████████████              | 1.9MB 18.7MB/s eta 0:00:01\r\u001b[K     |██████████████████▏             | 1.9MB 18.7MB/s eta 0:00:01\r\u001b[K     |██████████████████▎             | 1.9MB 18.7MB/s eta 0:00:01\r\u001b[K     |██████████████████▍             | 1.9MB 18.7MB/s eta 0:00:01\r\u001b[K     |██████████████████▌             | 1.9MB 18.7MB/s eta 0:00:01\r\u001b[K     |██████████████████▋             | 2.0MB 18.7MB/s eta 0:00:01\r\u001b[K     |██████████████████▊             | 2.0MB 18.7MB/s eta 0:00:01\r\u001b[K     |██████████████████▉             | 2.0MB 18.7MB/s eta 0:00:01\r\u001b[K     |███████████████████             | 2.0MB 18.7MB/s eta 0:00:01\r\u001b[K     |███████████████████             | 2.0MB 18.7MB/s eta 0:00:01\r\u001b[K     |███████████████████             | 2.0MB 18.7MB/s eta 0:00:01\r\u001b[K     |███████████████████▏            | 2.0MB 18.7MB/s eta 0:00:01\r\u001b[K     |███████████████████▎            | 2.0MB 18.7MB/s eta 0:00:01\r\u001b[K     |███████████████████▍            | 2.0MB 18.7MB/s eta 0:00:01\r\u001b[K     |███████████████████▌            | 2.0MB 18.7MB/s eta 0:00:01\r\u001b[K     |███████████████████▋            | 2.1MB 18.7MB/s eta 0:00:01\r\u001b[K     |███████████████████▊            | 2.1MB 18.7MB/s eta 0:00:01\r\u001b[K     |███████████████████▊            | 2.1MB 18.7MB/s eta 0:00:01\r\u001b[K     |███████████████████▉            | 2.1MB 18.7MB/s eta 0:00:01\r\u001b[K     |████████████████████            | 2.1MB 18.7MB/s eta 0:00:01\r\u001b[K     |████████████████████            | 2.1MB 18.7MB/s eta 0:00:01\r\u001b[K     |████████████████████▏           | 2.1MB 18.7MB/s eta 0:00:01\r\u001b[K     |████████████████████▎           | 2.1MB 18.7MB/s eta 0:00:01\r\u001b[K     |████████████████████▍           | 2.1MB 18.7MB/s eta 0:00:01\r\u001b[K     |████████████████████▌           | 2.2MB 18.7MB/s eta 0:00:01\r\u001b[K     |████████████████████▌           | 2.2MB 18.7MB/s eta 0:00:01\r\u001b[K     |████████████████████▋           | 2.2MB 18.7MB/s eta 0:00:01\r\u001b[K     |████████████████████▊           | 2.2MB 18.7MB/s eta 0:00:01\r\u001b[K     |████████████████████▉           | 2.2MB 18.7MB/s eta 0:00:01\r\u001b[K     |█████████████████████           | 2.2MB 18.7MB/s eta 0:00:01\r\u001b[K     |█████████████████████           | 2.2MB 18.7MB/s eta 0:00:01\r\u001b[K     |█████████████████████▏          | 2.2MB 18.7MB/s eta 0:00:01\r\u001b[K     |█████████████████████▎          | 2.2MB 18.7MB/s eta 0:00:01\r\u001b[K     |█████████████████████▎          | 2.2MB 18.7MB/s eta 0:00:01\r\u001b[K     |█████████████████████▍          | 2.3MB 18.7MB/s eta 0:00:01\r\u001b[K     |█████████████████████▌          | 2.3MB 18.7MB/s eta 0:00:01\r\u001b[K     |█████████████████████▋          | 2.3MB 18.7MB/s eta 0:00:01\r\u001b[K     |█████████████████████▊          | 2.3MB 18.7MB/s eta 0:00:01\r\u001b[K     |█████████████████████▉          | 2.3MB 18.7MB/s eta 0:00:01\r\u001b[K     |██████████████████████          | 2.3MB 18.7MB/s eta 0:00:01\r\u001b[K     |██████████████████████          | 2.3MB 18.7MB/s eta 0:00:01\r\u001b[K     |██████████████████████          | 2.3MB 18.7MB/s eta 0:00:01\r\u001b[K     |██████████████████████▏         | 2.3MB 18.7MB/s eta 0:00:01\r\u001b[K     |██████████████████████▎         | 2.3MB 18.7MB/s eta 0:00:01\r\u001b[K     |██████████████████████▍         | 2.4MB 18.7MB/s eta 0:00:01\r\u001b[K     |██████████████████████▌         | 2.4MB 18.7MB/s eta 0:00:01\r\u001b[K     |██████████████████████▋         | 2.4MB 18.7MB/s eta 0:00:01\r\u001b[K     |██████████████████████▊         | 2.4MB 18.7MB/s eta 0:00:01\r\u001b[K     |██████████████████████▉         | 2.4MB 18.7MB/s eta 0:00:01\r\u001b[K     |██████████████████████▉         | 2.4MB 18.7MB/s eta 0:00:01\r\u001b[K     |███████████████████████         | 2.4MB 18.7MB/s eta 0:00:01\r\u001b[K     |███████████████████████         | 2.4MB 18.7MB/s eta 0:00:01\r\u001b[K     |███████████████████████▏        | 2.4MB 18.7MB/s eta 0:00:01\r\u001b[K     |███████████████████████▎        | 2.4MB 18.7MB/s eta 0:00:01\r\u001b[K     |███████████████████████▍        | 2.5MB 18.7MB/s eta 0:00:01\r\u001b[K     |███████████████████████▌        | 2.5MB 18.7MB/s eta 0:00:01\r\u001b[K     |███████████████████████▋        | 2.5MB 18.7MB/s eta 0:00:01\r\u001b[K     |███████████████████████▋        | 2.5MB 18.7MB/s eta 0:00:01\r\u001b[K     |███████████████████████▊        | 2.5MB 18.7MB/s eta 0:00:01\r\u001b[K     |███████████████████████▉        | 2.5MB 18.7MB/s eta 0:00:01\r\u001b[K     |████████████████████████        | 2.5MB 18.7MB/s eta 0:00:01\r\u001b[K     |████████████████████████        | 2.5MB 18.7MB/s eta 0:00:01\r\u001b[K     |████████████████████████▏       | 2.5MB 18.7MB/s eta 0:00:01\r\u001b[K     |████████████████████████▎       | 2.5MB 18.7MB/s eta 0:00:01\r\u001b[K     |████████████████████████▍       | 2.6MB 18.7MB/s eta 0:00:01\r\u001b[K     |████████████████████████▍       | 2.6MB 18.7MB/s eta 0:00:01\r\u001b[K     |████████████████████████▌       | 2.6MB 18.7MB/s eta 0:00:01\r\u001b[K     |████████████████████████▋       | 2.6MB 18.7MB/s eta 0:00:01\r\u001b[K     |████████████████████████▊       | 2.6MB 18.7MB/s eta 0:00:01\r\u001b[K     |████████████████████████▉       | 2.6MB 18.7MB/s eta 0:00:01\r\u001b[K     |█████████████████████████       | 2.6MB 18.7MB/s eta 0:00:01\r\u001b[K     |█████████████████████████       | 2.6MB 18.7MB/s eta 0:00:01\r\u001b[K     |█████████████████████████▏      | 2.6MB 18.7MB/s eta 0:00:01\r\u001b[K     |█████████████████████████▏      | 2.7MB 18.7MB/s eta 0:00:01\r\u001b[K     |█████████████████████████▎      | 2.7MB 18.7MB/s eta 0:00:01\r\u001b[K     |█████████████████████████▍      | 2.7MB 18.7MB/s eta 0:00:01\r\u001b[K     |█████████████████████████▌      | 2.7MB 18.7MB/s eta 0:00:01\r\u001b[K     |█████████████████████████▋      | 2.7MB 18.7MB/s eta 0:00:01\r\u001b[K     |█████████████████████████▊      | 2.7MB 18.7MB/s eta 0:00:01\r\u001b[K     |█████████████████████████▉      | 2.7MB 18.7MB/s eta 0:00:01\r\u001b[K     |██████████████████████████      | 2.7MB 18.7MB/s eta 0:00:01\r\u001b[K     |██████████████████████████      | 2.7MB 18.7MB/s eta 0:00:01\r\u001b[K     |██████████████████████████      | 2.7MB 18.7MB/s eta 0:00:01\r\u001b[K     |██████████████████████████▏     | 2.8MB 18.7MB/s eta 0:00:01\r\u001b[K     |██████████████████████████▎     | 2.8MB 18.7MB/s eta 0:00:01\r\u001b[K     |██████████████████████████▍     | 2.8MB 18.7MB/s eta 0:00:01\r\u001b[K     |██████████████████████████▌     | 2.8MB 18.7MB/s eta 0:00:01\r\u001b[K     |██████████████████████████▋     | 2.8MB 18.7MB/s eta 0:00:01\r\u001b[K     |██████████████████████████▊     | 2.8MB 18.7MB/s eta 0:00:01\r\u001b[K     |██████████████████████████▊     | 2.8MB 18.7MB/s eta 0:00:01\r\u001b[K     |██████████████████████████▉     | 2.8MB 18.7MB/s eta 0:00:01\r\u001b[K     |███████████████████████████     | 2.8MB 18.7MB/s eta 0:00:01\r\u001b[K     |███████████████████████████     | 2.8MB 18.7MB/s eta 0:00:01\r\u001b[K     |███████████████████████████▏    | 2.9MB 18.7MB/s eta 0:00:01\r\u001b[K     |███████████████████████████▎    | 2.9MB 18.7MB/s eta 0:00:01\r\u001b[K     |███████████████████████████▍    | 2.9MB 18.7MB/s eta 0:00:01\r\u001b[K     |███████████████████████████▌    | 2.9MB 18.7MB/s eta 0:00:01\r\u001b[K     |███████████████████████████▌    | 2.9MB 18.7MB/s eta 0:00:01\r\u001b[K     |███████████████████████████▋    | 2.9MB 18.7MB/s eta 0:00:01\r\u001b[K     |███████████████████████████▊    | 2.9MB 18.7MB/s eta 0:00:01\r\u001b[K     |███████████████████████████▉    | 2.9MB 18.7MB/s eta 0:00:01\r\u001b[K     |████████████████████████████    | 2.9MB 18.7MB/s eta 0:00:01\r\u001b[K     |████████████████████████████    | 2.9MB 18.7MB/s eta 0:00:01\r\u001b[K     |████████████████████████████▏   | 3.0MB 18.7MB/s eta 0:00:01\r\u001b[K     |████████████████████████████▎   | 3.0MB 18.7MB/s eta 0:00:01\r\u001b[K     |████████████████████████████▍   | 3.0MB 18.7MB/s eta 0:00:01\r\u001b[K     |████████████████████████████▍   | 3.0MB 18.7MB/s eta 0:00:01\r\u001b[K     |████████████████████████████▌   | 3.0MB 18.7MB/s eta 0:00:01\r\u001b[K     |████████████████████████████▋   | 3.0MB 18.7MB/s eta 0:00:01\r\u001b[K     |████████████████████████████▊   | 3.0MB 18.7MB/s eta 0:00:01\r\u001b[K     |████████████████████████████▉   | 3.0MB 18.7MB/s eta 0:00:01\r\u001b[K     |█████████████████████████████   | 3.0MB 18.7MB/s eta 0:00:01\r\u001b[K     |█████████████████████████████   | 3.1MB 18.7MB/s eta 0:00:01\r\u001b[K     |█████████████████████████████▏  | 3.1MB 18.7MB/s eta 0:00:01\r\u001b[K     |█████████████████████████████▏  | 3.1MB 18.7MB/s eta 0:00:01\r\u001b[K     |█████████████████████████████▎  | 3.1MB 18.7MB/s eta 0:00:01\r\u001b[K     |█████████████████████████████▍  | 3.1MB 18.7MB/s eta 0:00:01\r\u001b[K     |█████████████████████████████▌  | 3.1MB 18.7MB/s eta 0:00:01\r\u001b[K     |█████████████████████████████▋  | 3.1MB 18.7MB/s eta 0:00:01\r\u001b[K     |█████████████████████████████▊  | 3.1MB 18.7MB/s eta 0:00:01\r\u001b[K     |█████████████████████████████▉  | 3.1MB 18.7MB/s eta 0:00:01\r\u001b[K     |██████████████████████████████  | 3.1MB 18.7MB/s eta 0:00:01\r\u001b[K     |██████████████████████████████  | 3.2MB 18.7MB/s eta 0:00:01\r\u001b[K     |██████████████████████████████  | 3.2MB 18.7MB/s eta 0:00:01\r\u001b[K     |██████████████████████████████▏ | 3.2MB 18.7MB/s eta 0:00:01\r\u001b[K     |██████████████████████████████▎ | 3.2MB 18.7MB/s eta 0:00:01\r\u001b[K     |██████████████████████████████▍ | 3.2MB 18.7MB/s eta 0:00:01\r\u001b[K     |██████████████████████████████▌ | 3.2MB 18.7MB/s eta 0:00:01\r\u001b[K     |██████████████████████████████▋ | 3.2MB 18.7MB/s eta 0:00:01\r\u001b[K     |██████████████████████████████▊ | 3.2MB 18.7MB/s eta 0:00:01\r\u001b[K     |██████████████████████████████▊ | 3.2MB 18.7MB/s eta 0:00:01\r\u001b[K     |██████████████████████████████▉ | 3.2MB 18.7MB/s eta 0:00:01\r\u001b[K     |███████████████████████████████ | 3.3MB 18.7MB/s eta 0:00:01\r\u001b[K     |███████████████████████████████ | 3.3MB 18.7MB/s eta 0:00:01\r\u001b[K     |███████████████████████████████▏| 3.3MB 18.7MB/s eta 0:00:01\r\u001b[K     |███████████████████████████████▎| 3.3MB 18.7MB/s eta 0:00:01\r\u001b[K     |███████████████████████████████▍| 3.3MB 18.7MB/s eta 0:00:01\r\u001b[K     |███████████████████████████████▌| 3.3MB 18.7MB/s eta 0:00:01\r\u001b[K     |███████████████████████████████▌| 3.3MB 18.7MB/s eta 0:00:01\r\u001b[K     |███████████████████████████████▋| 3.3MB 18.7MB/s eta 0:00:01\r\u001b[K     |███████████████████████████████▊| 3.3MB 18.7MB/s eta 0:00:01\r\u001b[K     |███████████████████████████████▉| 3.3MB 18.7MB/s eta 0:00:01\r\u001b[K     |████████████████████████████████| 3.4MB 18.7MB/s eta 0:00:01\r\u001b[K     |████████████████████████████████| 3.4MB 18.7MB/s \n",
            "\u001b[?25h"
          ],
          "name": "stdout"
        }
      ]
    },
    {
      "cell_type": "code",
      "metadata": {
        "id": "1wAcUOgyXunK",
        "colab": {
          "base_uri": "https://localhost:8080/"
        },
        "outputId": "1b4e45d2-dad6-4af2-bd54-2e471ca79ede"
      },
      "source": [
        "!pip install -q tf-models-official"
      ],
      "execution_count": 5,
      "outputs": [
        {
          "output_type": "stream",
          "text": [
            "\u001b[K     |████████████████████████████████| 1.1MB 16.3MB/s \n",
            "\u001b[K     |████████████████████████████████| 102kB 12.7MB/s \n",
            "\u001b[K     |████████████████████████████████| 37.6MB 72kB/s \n",
            "\u001b[K     |████████████████████████████████| 706kB 55.4MB/s \n",
            "\u001b[K     |████████████████████████████████| 1.2MB 49.0MB/s \n",
            "\u001b[K     |████████████████████████████████| 174kB 61.8MB/s \n",
            "\u001b[K     |████████████████████████████████| 645kB 54.2MB/s \n",
            "\u001b[K     |████████████████████████████████| 358kB 60.4MB/s \n",
            "\u001b[K     |████████████████████████████████| 51kB 8.7MB/s \n",
            "\u001b[?25h  Building wheel for py-cpuinfo (setup.py) ... \u001b[?25l\u001b[?25hdone\n",
            "  Building wheel for seqeval (setup.py) ... \u001b[?25l\u001b[?25hdone\n"
          ],
          "name": "stdout"
        }
      ]
    },
    {
      "cell_type": "code",
      "metadata": {
        "id": "-nK-dMWaXutv"
      },
      "source": [
        "import os\n",
        "import shutil\n",
        "\n",
        "import tensorflow as tf\n",
        "import tensorflow_hub as hub\n",
        "import tensorflow_text as text\n",
        "from official.nlp import optimization  # to create AdamW optmizer\n",
        "\n",
        "import matplotlib.pyplot as plt\n",
        "\n",
        "tf.get_logger().setLevel('ERROR')"
      ],
      "execution_count": 6,
      "outputs": []
    },
    {
      "cell_type": "code",
      "metadata": {
        "id": "CJKCHyjczdq1"
      },
      "source": [
        "import pandas as pd\n",
        "import numpy as np"
      ],
      "execution_count": 7,
      "outputs": []
    },
    {
      "cell_type": "code",
      "metadata": {
        "colab": {
          "base_uri": "https://localhost:8080/"
        },
        "id": "UQobM5JYzdwP",
        "outputId": "07909042-c4b4-4bc1-eef9-94656cbd3d2f"
      },
      "source": [
        "#load the imdb dataset\n",
        "#There are 40000 sample in train_data, only load 10000\n",
        "train = pd.read_csv(\"/content/drive/My Drive/NLP/BERT/Dataset/Train_bert.csv\",nrows = 10000)\n",
        "valid = pd.read_csv(\"/content/drive/My Drive/NLP/BERT/Dataset/Valid_bert.csv\",nrows = 2000)\n",
        "test = pd.read_csv(\"/content/drive/My Drive/NLP/BERT/Dataset/Test_bert.csv\",nrows = 1000)\n",
        "train.shape,valid.shape,test.shape"
      ],
      "execution_count": 8,
      "outputs": [
        {
          "output_type": "execute_result",
          "data": {
            "text/plain": [
              "((10000, 2), (2000, 2), (1000, 2))"
            ]
          },
          "metadata": {
            "tags": []
          },
          "execution_count": 8
        }
      ]
    },
    {
      "cell_type": "code",
      "metadata": {
        "colab": {
          "base_uri": "https://localhost:8080/",
          "height": 204
        },
        "id": "-8ksrRk7v1gv",
        "outputId": "fb3af006-4e3a-49d8-8d52-041f3b0cf9a6"
      },
      "source": [
        "train.head()"
      ],
      "execution_count": 10,
      "outputs": [
        {
          "output_type": "execute_result",
          "data": {
            "text/html": [
              "<div>\n",
              "<style scoped>\n",
              "    .dataframe tbody tr th:only-of-type {\n",
              "        vertical-align: middle;\n",
              "    }\n",
              "\n",
              "    .dataframe tbody tr th {\n",
              "        vertical-align: top;\n",
              "    }\n",
              "\n",
              "    .dataframe thead th {\n",
              "        text-align: right;\n",
              "    }\n",
              "</style>\n",
              "<table border=\"1\" class=\"dataframe\">\n",
              "  <thead>\n",
              "    <tr style=\"text-align: right;\">\n",
              "      <th></th>\n",
              "      <th>text</th>\n",
              "      <th>label</th>\n",
              "    </tr>\n",
              "  </thead>\n",
              "  <tbody>\n",
              "    <tr>\n",
              "      <th>0</th>\n",
              "      <td>I grew up (b. 1965) watching and loving the Th...</td>\n",
              "      <td>0</td>\n",
              "    </tr>\n",
              "    <tr>\n",
              "      <th>1</th>\n",
              "      <td>When I put this movie in my DVD player, and sa...</td>\n",
              "      <td>0</td>\n",
              "    </tr>\n",
              "    <tr>\n",
              "      <th>2</th>\n",
              "      <td>Why do people who do not know what a particula...</td>\n",
              "      <td>0</td>\n",
              "    </tr>\n",
              "    <tr>\n",
              "      <th>3</th>\n",
              "      <td>Even though I have great interest in Biblical ...</td>\n",
              "      <td>0</td>\n",
              "    </tr>\n",
              "    <tr>\n",
              "      <th>4</th>\n",
              "      <td>Im a die hard Dads Army fan and nothing will e...</td>\n",
              "      <td>1</td>\n",
              "    </tr>\n",
              "  </tbody>\n",
              "</table>\n",
              "</div>"
            ],
            "text/plain": [
              "                                                text  label\n",
              "0  I grew up (b. 1965) watching and loving the Th...      0\n",
              "1  When I put this movie in my DVD player, and sa...      0\n",
              "2  Why do people who do not know what a particula...      0\n",
              "3  Even though I have great interest in Biblical ...      0\n",
              "4  Im a die hard Dads Army fan and nothing will e...      1"
            ]
          },
          "metadata": {
            "tags": []
          },
          "execution_count": 10
        }
      ]
    },
    {
      "cell_type": "code",
      "metadata": {
        "id": "29r1N0Yev4oy"
      },
      "source": [
        "train_text = train['text'].to_numpy()\n",
        "valid_text = valid['text'].to_numpy()\n",
        "test_text = test['text'].to_numpy()"
      ],
      "execution_count": 9,
      "outputs": []
    },
    {
      "cell_type": "code",
      "metadata": {
        "id": "8andUS2YwGj6"
      },
      "source": [
        "train_labels = train['label'].to_numpy().flatten()\n",
        "valid_labels = valid['label'].to_numpy().flatten()\n",
        "test_labels = test['label'].to_numpy().flatten()"
      ],
      "execution_count": 11,
      "outputs": []
    },
    {
      "cell_type": "code",
      "metadata": {
        "id": "SEsExdjE3BOA"
      },
      "source": [
        "train_ds = tf.data.Dataset.from_tensor_slices((train_text,train_labels))\n",
        "valid_ds = tf.data.Dataset.from_tensor_slices((valid_text,valid_labels))\n",
        "test_ds = tf.data.Dataset.from_tensor_slices((test_text,test_labels))"
      ],
      "execution_count": 12,
      "outputs": []
    },
    {
      "cell_type": "code",
      "metadata": {
        "colab": {
          "base_uri": "https://localhost:8080/"
        },
        "id": "Mp75t_mByxsC",
        "outputId": "f55f78a4-917c-4f4b-e75e-6c58a5f32a61"
      },
      "source": [
        "print(\"The shape is :\",train_ds)\n",
        "print(type(train_ds))"
      ],
      "execution_count": 13,
      "outputs": [
        {
          "output_type": "stream",
          "text": [
            "The shape is : <TensorSliceDataset shapes: ((), ()), types: (tf.string, tf.int64)>\n",
            "<class 'tensorflow.python.data.ops.dataset_ops.TensorSliceDataset'>\n"
          ],
          "name": "stdout"
        }
      ]
    },
    {
      "cell_type": "markdown",
      "metadata": {
        "id": "_uZppAP70JQ8"
      },
      "source": [
        "The tf.data API provides the tf.data.Dataset.prefetch transformation. It can be used to decouple the time when data is produced from the time when data is consumed. In particular, the transformation uses a background thread and an internal buffer to prefetch elements from the input dataset ahead of the time they are requested. The number of elements to prefetch should be equal to (or possibly greater than) the number of batches consumed by a single training step. You could either manually tune this value, or set it to tf.data.AUTOTUNE, which will prompt the tf.data runtime to tune the value dynamically at runtime."
      ]
    },
    {
      "cell_type": "code",
      "metadata": {
        "id": "JRemUSuSymmw"
      },
      "source": [
        "AUTOTUNE = tf.data.AUTOTUNE"
      ],
      "execution_count": 14,
      "outputs": []
    },
    {
      "cell_type": "code",
      "metadata": {
        "id": "By8IGo4r4gUk"
      },
      "source": [
        "train_set = train_ds.cache().prefetch(buffer_size=AUTOTUNE)\n",
        "valid_set = valid_ds.cache().prefetch(buffer_size=AUTOTUNE)\n",
        "test_set = test_ds.cache().prefetch(buffer_size=AUTOTUNE)"
      ],
      "execution_count": 15,
      "outputs": []
    },
    {
      "cell_type": "code",
      "metadata": {
        "id": "oDWWOqzozJHz",
        "colab": {
          "base_uri": "https://localhost:8080/"
        },
        "outputId": "1d8eda6c-d803-4261-b95e-81dde25df5d5"
      },
      "source": [
        "print(train_set)\n",
        "print(type(train_set))"
      ],
      "execution_count": 16,
      "outputs": [
        {
          "output_type": "stream",
          "text": [
            "<PrefetchDataset shapes: ((), ()), types: (tf.string, tf.int64)>\n",
            "<class 'tensorflow.python.data.ops.dataset_ops.PrefetchDataset'>\n"
          ],
          "name": "stdout"
        }
      ]
    },
    {
      "cell_type": "code",
      "metadata": {
        "id": "BM7uNSwB0s4d"
      },
      "source": [
        "# for text_batch, label_batch in train_ds.take(1):\n",
        "#   for i in range(3):\n",
        "#     print(f'Review: {text_batch.numpy()[i]}')\n",
        "#     label = label_batch.numpy()[i]\n",
        "#     print(f'Label : {label} ({class_names[label]})')"
      ],
      "execution_count": null,
      "outputs": []
    },
    {
      "cell_type": "code",
      "metadata": {
        "id": "ZyslQz6Nwc1J",
        "colab": {
          "base_uri": "https://localhost:8080/"
        },
        "cellView": "form",
        "outputId": "08b64549-4ad7-488e-a9b8-8de18d6b8fd3"
      },
      "source": [
        "#@title Choose a BERT model to fine-tune\n",
        "\n",
        "bert_model_name = 'small_bert/bert_en_uncased_L-4_H-512_A-8'  #@param [\"bert_en_uncased_L-12_H-768_A-12\", \"bert_en_cased_L-12_H-768_A-12\", \"bert_multi_cased_L-12_H-768_A-12\", \"small_bert/bert_en_uncased_L-2_H-128_A-2\", \"small_bert/bert_en_uncased_L-2_H-256_A-4\", \"small_bert/bert_en_uncased_L-2_H-512_A-8\", \"small_bert/bert_en_uncased_L-2_H-768_A-12\", \"small_bert/bert_en_uncased_L-4_H-128_A-2\", \"small_bert/bert_en_uncased_L-4_H-256_A-4\", \"small_bert/bert_en_uncased_L-4_H-512_A-8\", \"small_bert/bert_en_uncased_L-4_H-768_A-12\", \"small_bert/bert_en_uncased_L-6_H-128_A-2\", \"small_bert/bert_en_uncased_L-6_H-256_A-4\", \"small_bert/bert_en_uncased_L-6_H-512_A-8\", \"small_bert/bert_en_uncased_L-6_H-768_A-12\", \"small_bert/bert_en_uncased_L-8_H-128_A-2\", \"small_bert/bert_en_uncased_L-8_H-256_A-4\", \"small_bert/bert_en_uncased_L-8_H-512_A-8\", \"small_bert/bert_en_uncased_L-8_H-768_A-12\", \"small_bert/bert_en_uncased_L-10_H-128_A-2\", \"small_bert/bert_en_uncased_L-10_H-256_A-4\", \"small_bert/bert_en_uncased_L-10_H-512_A-8\", \"small_bert/bert_en_uncased_L-10_H-768_A-12\", \"small_bert/bert_en_uncased_L-12_H-128_A-2\", \"small_bert/bert_en_uncased_L-12_H-256_A-4\", \"small_bert/bert_en_uncased_L-12_H-512_A-8\", \"small_bert/bert_en_uncased_L-12_H-768_A-12\", \"albert_en_base\", \"electra_small\", \"electra_base\", \"experts_pubmed\", \"experts_wiki_books\", \"talking-heads_base\"]\n",
        "\n",
        "map_name_to_handle = {\n",
        "    'bert_en_uncased_L-12_H-768_A-12':\n",
        "        'https://tfhub.dev/tensorflow/bert_en_uncased_L-12_H-768_A-12/3',\n",
        "    'bert_en_cased_L-12_H-768_A-12':\n",
        "        'https://tfhub.dev/tensorflow/bert_en_cased_L-12_H-768_A-12/3',\n",
        "    'bert_multi_cased_L-12_H-768_A-12':\n",
        "        'https://tfhub.dev/tensorflow/bert_multi_cased_L-12_H-768_A-12/3',\n",
        "    'small_bert/bert_en_uncased_L-2_H-128_A-2':\n",
        "        'https://tfhub.dev/tensorflow/small_bert/bert_en_uncased_L-2_H-128_A-2/1',\n",
        "    'small_bert/bert_en_uncased_L-2_H-256_A-4':\n",
        "        'https://tfhub.dev/tensorflow/small_bert/bert_en_uncased_L-2_H-256_A-4/1',\n",
        "    'small_bert/bert_en_uncased_L-2_H-512_A-8':\n",
        "        'https://tfhub.dev/tensorflow/small_bert/bert_en_uncased_L-2_H-512_A-8/1',\n",
        "    'small_bert/bert_en_uncased_L-2_H-768_A-12':\n",
        "        'https://tfhub.dev/tensorflow/small_bert/bert_en_uncased_L-2_H-768_A-12/1',\n",
        "    'small_bert/bert_en_uncased_L-4_H-128_A-2':\n",
        "        'https://tfhub.dev/tensorflow/small_bert/bert_en_uncased_L-4_H-128_A-2/1',\n",
        "    'small_bert/bert_en_uncased_L-4_H-256_A-4':\n",
        "        'https://tfhub.dev/tensorflow/small_bert/bert_en_uncased_L-4_H-256_A-4/1',\n",
        "    'small_bert/bert_en_uncased_L-4_H-512_A-8':\n",
        "        'https://tfhub.dev/tensorflow/small_bert/bert_en_uncased_L-4_H-512_A-8/1',\n",
        "    'small_bert/bert_en_uncased_L-4_H-768_A-12':\n",
        "        'https://tfhub.dev/tensorflow/small_bert/bert_en_uncased_L-4_H-768_A-12/1',\n",
        "    'small_bert/bert_en_uncased_L-6_H-128_A-2':\n",
        "        'https://tfhub.dev/tensorflow/small_bert/bert_en_uncased_L-6_H-128_A-2/1',\n",
        "    'small_bert/bert_en_uncased_L-6_H-256_A-4':\n",
        "        'https://tfhub.dev/tensorflow/small_bert/bert_en_uncased_L-6_H-256_A-4/1',\n",
        "    'small_bert/bert_en_uncased_L-6_H-512_A-8':\n",
        "        'https://tfhub.dev/tensorflow/small_bert/bert_en_uncased_L-6_H-512_A-8/1',\n",
        "    'small_bert/bert_en_uncased_L-6_H-768_A-12':\n",
        "        'https://tfhub.dev/tensorflow/small_bert/bert_en_uncased_L-6_H-768_A-12/1',\n",
        "    'small_bert/bert_en_uncased_L-8_H-128_A-2':\n",
        "        'https://tfhub.dev/tensorflow/small_bert/bert_en_uncased_L-8_H-128_A-2/1',\n",
        "    'small_bert/bert_en_uncased_L-8_H-256_A-4':\n",
        "        'https://tfhub.dev/tensorflow/small_bert/bert_en_uncased_L-8_H-256_A-4/1',\n",
        "    'small_bert/bert_en_uncased_L-8_H-512_A-8':\n",
        "        'https://tfhub.dev/tensorflow/small_bert/bert_en_uncased_L-8_H-512_A-8/1',\n",
        "    'small_bert/bert_en_uncased_L-8_H-768_A-12':\n",
        "        'https://tfhub.dev/tensorflow/small_bert/bert_en_uncased_L-8_H-768_A-12/1',\n",
        "    'small_bert/bert_en_uncased_L-10_H-128_A-2':\n",
        "        'https://tfhub.dev/tensorflow/small_bert/bert_en_uncased_L-10_H-128_A-2/1',\n",
        "    'small_bert/bert_en_uncased_L-10_H-256_A-4':\n",
        "        'https://tfhub.dev/tensorflow/small_bert/bert_en_uncased_L-10_H-256_A-4/1',\n",
        "    'small_bert/bert_en_uncased_L-10_H-512_A-8':\n",
        "        'https://tfhub.dev/tensorflow/small_bert/bert_en_uncased_L-10_H-512_A-8/1',\n",
        "    'small_bert/bert_en_uncased_L-10_H-768_A-12':\n",
        "        'https://tfhub.dev/tensorflow/small_bert/bert_en_uncased_L-10_H-768_A-12/1',\n",
        "    'small_bert/bert_en_uncased_L-12_H-128_A-2':\n",
        "        'https://tfhub.dev/tensorflow/small_bert/bert_en_uncased_L-12_H-128_A-2/1',\n",
        "    'small_bert/bert_en_uncased_L-12_H-256_A-4':\n",
        "        'https://tfhub.dev/tensorflow/small_bert/bert_en_uncased_L-12_H-256_A-4/1',\n",
        "    'small_bert/bert_en_uncased_L-12_H-512_A-8':\n",
        "        'https://tfhub.dev/tensorflow/small_bert/bert_en_uncased_L-12_H-512_A-8/1',\n",
        "    'small_bert/bert_en_uncased_L-12_H-768_A-12':\n",
        "        'https://tfhub.dev/tensorflow/small_bert/bert_en_uncased_L-12_H-768_A-12/1',\n",
        "    'albert_en_base':\n",
        "        'https://tfhub.dev/tensorflow/albert_en_base/2',\n",
        "    'electra_small':\n",
        "        'https://tfhub.dev/google/electra_small/2',\n",
        "    'electra_base':\n",
        "        'https://tfhub.dev/google/electra_base/2',\n",
        "    'experts_pubmed':\n",
        "        'https://tfhub.dev/google/experts/bert/pubmed/2',\n",
        "    'experts_wiki_books':\n",
        "        'https://tfhub.dev/google/experts/bert/wiki_books/2',\n",
        "    'talking-heads_base':\n",
        "        'https://tfhub.dev/tensorflow/talkheads_ggelu_bert_en_base/1',\n",
        "}\n",
        "\n",
        "map_model_to_preprocess = {\n",
        "    'bert_en_uncased_L-12_H-768_A-12':\n",
        "        'https://tfhub.dev/tensorflow/bert_en_uncased_preprocess/3',\n",
        "    'bert_en_cased_L-12_H-768_A-12':\n",
        "        'https://tfhub.dev/tensorflow/bert_en_cased_preprocess/3',\n",
        "    'small_bert/bert_en_uncased_L-2_H-128_A-2':\n",
        "        'https://tfhub.dev/tensorflow/bert_en_uncased_preprocess/3',\n",
        "    'small_bert/bert_en_uncased_L-2_H-256_A-4':\n",
        "        'https://tfhub.dev/tensorflow/bert_en_uncased_preprocess/3',\n",
        "    'small_bert/bert_en_uncased_L-2_H-512_A-8':\n",
        "        'https://tfhub.dev/tensorflow/bert_en_uncased_preprocess/3',\n",
        "    'small_bert/bert_en_uncased_L-2_H-768_A-12':\n",
        "        'https://tfhub.dev/tensorflow/bert_en_uncased_preprocess/3',\n",
        "    'small_bert/bert_en_uncased_L-4_H-128_A-2':\n",
        "        'https://tfhub.dev/tensorflow/bert_en_uncased_preprocess/3',\n",
        "    'small_bert/bert_en_uncased_L-4_H-256_A-4':\n",
        "        'https://tfhub.dev/tensorflow/bert_en_uncased_preprocess/3',\n",
        "    'small_bert/bert_en_uncased_L-4_H-512_A-8':\n",
        "        'https://tfhub.dev/tensorflow/bert_en_uncased_preprocess/3',\n",
        "    'small_bert/bert_en_uncased_L-4_H-768_A-12':\n",
        "        'https://tfhub.dev/tensorflow/bert_en_uncased_preprocess/3',\n",
        "    'small_bert/bert_en_uncased_L-6_H-128_A-2':\n",
        "        'https://tfhub.dev/tensorflow/bert_en_uncased_preprocess/3',\n",
        "    'small_bert/bert_en_uncased_L-6_H-256_A-4':\n",
        "        'https://tfhub.dev/tensorflow/bert_en_uncased_preprocess/3',\n",
        "    'small_bert/bert_en_uncased_L-6_H-512_A-8':\n",
        "        'https://tfhub.dev/tensorflow/bert_en_uncased_preprocess/3',\n",
        "    'small_bert/bert_en_uncased_L-6_H-768_A-12':\n",
        "        'https://tfhub.dev/tensorflow/bert_en_uncased_preprocess/3',\n",
        "    'small_bert/bert_en_uncased_L-8_H-128_A-2':\n",
        "        'https://tfhub.dev/tensorflow/bert_en_uncased_preprocess/3',\n",
        "    'small_bert/bert_en_uncased_L-8_H-256_A-4':\n",
        "        'https://tfhub.dev/tensorflow/bert_en_uncased_preprocess/3',\n",
        "    'small_bert/bert_en_uncased_L-8_H-512_A-8':\n",
        "        'https://tfhub.dev/tensorflow/bert_en_uncased_preprocess/3',\n",
        "    'small_bert/bert_en_uncased_L-8_H-768_A-12':\n",
        "        'https://tfhub.dev/tensorflow/bert_en_uncased_preprocess/3',\n",
        "    'small_bert/bert_en_uncased_L-10_H-128_A-2':\n",
        "        'https://tfhub.dev/tensorflow/bert_en_uncased_preprocess/3',\n",
        "    'small_bert/bert_en_uncased_L-10_H-256_A-4':\n",
        "        'https://tfhub.dev/tensorflow/bert_en_uncased_preprocess/3',\n",
        "    'small_bert/bert_en_uncased_L-10_H-512_A-8':\n",
        "        'https://tfhub.dev/tensorflow/bert_en_uncased_preprocess/3',\n",
        "    'small_bert/bert_en_uncased_L-10_H-768_A-12':\n",
        "        'https://tfhub.dev/tensorflow/bert_en_uncased_preprocess/3',\n",
        "    'small_bert/bert_en_uncased_L-12_H-128_A-2':\n",
        "        'https://tfhub.dev/tensorflow/bert_en_uncased_preprocess/3',\n",
        "    'small_bert/bert_en_uncased_L-12_H-256_A-4':\n",
        "        'https://tfhub.dev/tensorflow/bert_en_uncased_preprocess/3',\n",
        "    'small_bert/bert_en_uncased_L-12_H-512_A-8':\n",
        "        'https://tfhub.dev/tensorflow/bert_en_uncased_preprocess/3',\n",
        "    'small_bert/bert_en_uncased_L-12_H-768_A-12':\n",
        "        'https://tfhub.dev/tensorflow/bert_en_uncased_preprocess/3',\n",
        "    'bert_multi_cased_L-12_H-768_A-12':\n",
        "        'https://tfhub.dev/tensorflow/bert_multi_cased_preprocess/3',\n",
        "    'albert_en_base':\n",
        "        'https://tfhub.dev/tensorflow/albert_en_preprocess/3',\n",
        "    'electra_small':\n",
        "        'https://tfhub.dev/tensorflow/bert_en_uncased_preprocess/3',\n",
        "    'electra_base':\n",
        "        'https://tfhub.dev/tensorflow/bert_en_uncased_preprocess/3',\n",
        "    'experts_pubmed':\n",
        "        'https://tfhub.dev/tensorflow/bert_en_uncased_preprocess/3',\n",
        "    'experts_wiki_books':\n",
        "        'https://tfhub.dev/tensorflow/bert_en_uncased_preprocess/3',\n",
        "    'talking-heads_base':\n",
        "        'https://tfhub.dev/tensorflow/bert_en_uncased_preprocess/3',\n",
        "}\n",
        "\n",
        "tfhub_handle_encoder = map_name_to_handle[bert_model_name]\n",
        "tfhub_handle_preprocess = map_model_to_preprocess[bert_model_name]\n",
        "\n",
        "print(f'BERT model selected           : {tfhub_handle_encoder}')\n",
        "print(f'Preprocess model auto-selected: {tfhub_handle_preprocess}')"
      ],
      "execution_count": 17,
      "outputs": [
        {
          "output_type": "stream",
          "text": [
            "BERT model selected           : https://tfhub.dev/tensorflow/small_bert/bert_en_uncased_L-4_H-512_A-8/1\n",
            "Preprocess model auto-selected: https://tfhub.dev/tensorflow/bert_en_uncased_preprocess/3\n"
          ],
          "name": "stdout"
        }
      ]
    },
    {
      "cell_type": "code",
      "metadata": {
        "id": "xu4zFHMC2URW"
      },
      "source": [
        "# The preprocessing model\n",
        "bert_preprocess_model = hub.KerasLayer(tfhub_handle_preprocess)"
      ],
      "execution_count": 21,
      "outputs": []
    },
    {
      "cell_type": "code",
      "metadata": {
        "id": "9zjlfAS82en7",
        "colab": {
          "base_uri": "https://localhost:8080/"
        },
        "outputId": "6283e6a5-f33a-4df2-ecfb-05b0ceb07a28"
      },
      "source": [
        "# Try a example, it's working\n",
        "text_test = ['this is such an amazing movie!']\n",
        "text_preprocessed = bert_preprocess_model(text_test)\n",
        "\n",
        "print(f'Keys       : {list(text_preprocessed.keys())}')\n",
        "print(f'Shape      : {text_preprocessed[\"input_word_ids\"].shape}')\n",
        "print(f'Word Ids   : {text_preprocessed[\"input_word_ids\"][0, :12]}')\n",
        "print(f'Input Mask : {text_preprocessed[\"input_mask\"][0, :12]}')\n",
        "print(f'Type Ids   : {text_preprocessed[\"input_type_ids\"][0, :12]}')"
      ],
      "execution_count": 22,
      "outputs": [
        {
          "output_type": "stream",
          "text": [
            "Keys       : ['input_word_ids', 'input_mask', 'input_type_ids']\n",
            "Shape      : (1, 128)\n",
            "Word Ids   : [ 101 2023 2003 2107 2019 6429 3185  999  102    0    0    0]\n",
            "Input Mask : [1 1 1 1 1 1 1 1 1 0 0 0]\n",
            "Type Ids   : [0 0 0 0 0 0 0 0 0 0 0 0]\n"
          ],
          "name": "stdout"
        }
      ]
    },
    {
      "cell_type": "code",
      "metadata": {
        "id": "kqd-FoBA2gBJ"
      },
      "source": [
        "# load bert model  from TF Hub and see the returned values.\n",
        "bert_model = hub.KerasLayer(tfhub_handle_encoder)"
      ],
      "execution_count": 25,
      "outputs": []
    },
    {
      "cell_type": "code",
      "metadata": {
        "id": "Pj-oaXn12gD_",
        "colab": {
          "base_uri": "https://localhost:8080/"
        },
        "outputId": "1084c752-c800-4288-b371-6f57fa5c2eb7"
      },
      "source": [
        "bert_results = bert_model(text_preprocessed)\n",
        "\n",
        "print(f'Loaded BERT: {tfhub_handle_encoder}')\n",
        "print(f'Pooled Outputs Shape:{bert_results[\"pooled_output\"].shape}')\n",
        "print(f'Pooled Outputs Values:{bert_results[\"pooled_output\"][0, :12]}')\n",
        "print(f'Sequence Outputs Shape:{bert_results[\"sequence_output\"].shape}')\n",
        "print(f'Sequence Outputs Values:{bert_results[\"sequence_output\"][0, :12]}')"
      ],
      "execution_count": 26,
      "outputs": [
        {
          "output_type": "stream",
          "text": [
            "Loaded BERT: https://tfhub.dev/tensorflow/small_bert/bert_en_uncased_L-4_H-512_A-8/1\n",
            "Pooled Outputs Shape:(1, 512)\n",
            "Pooled Outputs Values:[ 0.7626284   0.9928099  -0.18611862  0.36673862  0.15233698  0.6550447\n",
            "  0.9681154  -0.94862705  0.00216154 -0.98777324  0.0684273  -0.97630596]\n",
            "Sequence Outputs Shape:(1, 128, 512)\n",
            "Sequence Outputs Values:[[-0.28946292  0.3432122   0.3323146  ...  0.2130091   0.7102076\n",
            "  -0.05771127]\n",
            " [-0.28742066  0.31980988 -0.23018472 ...  0.58454984 -0.21329743\n",
            "   0.7269208 ]\n",
            " [-0.6615696   0.688769   -0.87432975 ...  0.1087725  -0.26173288\n",
            "   0.47855526]\n",
            " ...\n",
            " [-0.22561064 -0.28925598 -0.07064444 ...  0.4756608   0.832771\n",
            "   0.40025362]\n",
            " [-0.2982425  -0.27473134 -0.05450555 ...  0.48849788  1.0955352\n",
            "   0.18163432]\n",
            " [-0.44378024  0.00930739  0.07223781 ...  0.1729011   1.1833246\n",
            "   0.0789801 ]]\n"
          ],
          "name": "stdout"
        }
      ]
    },
    {
      "cell_type": "code",
      "metadata": {
        "id": "YeAYCKXgYaCo"
      },
      "source": [
        "######\n",
        "#Define my model\n",
        "######\n",
        "def build_classifier_model():\n",
        "  text_input = tf.keras.layers.Input(shape=(), dtype=tf.string, name='text')\n",
        "  preprocessing_layer = hub.KerasLayer(tfhub_handle_preprocess, name='preprocessing')\n",
        "  encoder_inputs = preprocessing_layer(text_input)\n",
        "  encoder = hub.KerasLayer(tfhub_handle_encoder, trainable=True, name='BERT_encoder')\n",
        "  outputs = encoder(encoder_inputs)\n",
        "  net = outputs['pooled_output']\n",
        "  net = tf.keras.layers.Dropout(0.1)(net)\n",
        "  net = tf.keras.layers.Dense(1, activation=None, name='classifier')(net)\n",
        "  return tf.keras.Model(text_input, net)"
      ],
      "execution_count": 27,
      "outputs": []
    },
    {
      "cell_type": "code",
      "metadata": {
        "id": "0277nITFpEzB",
        "colab": {
          "base_uri": "https://localhost:8080/"
        },
        "outputId": "41414fc8-4011-4ffd-eb61-65bc2a7c3f68"
      },
      "source": [
        "# check that the model runs with the output of the preprocessing model.\n",
        "classifier_model = build_classifier_model()\n",
        "bert_raw_result = classifier_model(tf.constant(text_test))\n",
        "print(tf.sigmoid(bert_raw_result))"
      ],
      "execution_count": 28,
      "outputs": [
        {
          "output_type": "stream",
          "text": [
            "tf.Tensor([[0.20501867]], shape=(1, 1), dtype=float32)\n"
          ],
          "name": "stdout"
        }
      ]
    },
    {
      "cell_type": "code",
      "metadata": {
        "id": "nKGe-k8upE-8",
        "colab": {
          "base_uri": "https://localhost:8080/",
          "height": 466
        },
        "outputId": "1b3b8d3c-7dcf-4491-a27d-8d0db2e443b5"
      },
      "source": [
        "# model's structure.\n",
        "tf.keras.utils.plot_model(classifier_model)"
      ],
      "execution_count": 29,
      "outputs": [
        {
          "output_type": "execute_result",
          "data": {
            "image/png": "[encoded data removed]",
            "text/plain": [
              "<IPython.core.display.Image object>"
            ]
          },
          "metadata": {
            "tags": []
          },
          "execution_count": 29
        }
      ]
    },
    {
      "cell_type": "code",
      "metadata": {
        "id": "1Fx8PBGwx-iw"
      },
      "source": [
        "# Loss function\n",
        "loss = tf.keras.losses.BinaryCrossentropy(from_logits=True)\n",
        "metrics = tf.metrics.BinaryAccuracy()"
      ],
      "execution_count": 30,
      "outputs": []
    },
    {
      "cell_type": "code",
      "metadata": {
        "id": "uHGa_s7sx-mF"
      },
      "source": [
        "# Optimizer\n",
        "epochs = 5\n",
        "steps_per_epoch = tf.data.experimental.cardinality(train_ds).numpy()\n",
        "num_train_steps = steps_per_epoch * epochs\n",
        "num_warmup_steps = int(0.1*num_train_steps)\n",
        "\n",
        "init_lr = 3e-5\n",
        "optimizer = optimization.create_optimizer(init_lr=init_lr,\n",
        "                                          num_train_steps=num_train_steps,\n",
        "                                          num_warmup_steps=num_warmup_steps,\n",
        "                                          optimizer_type='adamw')"
      ],
      "execution_count": 31,
      "outputs": []
    },
    {
      "cell_type": "code",
      "metadata": {
        "id": "XWnYwoox45kS"
      },
      "source": [
        "# Loading the BERT model and training\n",
        "classifier_model.compile(optimizer=optimizer,\n",
        "                         loss=loss,\n",
        "                         metrics=metrics)"
      ],
      "execution_count": 32,
      "outputs": []
    },
    {
      "cell_type": "code",
      "metadata": {
        "id": "rGoBQFZ945pI",
        "colab": {
          "base_uri": "https://localhost:8080/",
          "height": 1000
        },
        "outputId": "a313c8ea-1da5-48cf-84b0-8b160d41563a"
      },
      "source": [
        "print(f'Training model with {tfhub_handle_encoder}')\n",
        "history = classifier_model.fit(x=train_ds,\n",
        "                               validation_data=valid_ds,\n",
        "                               epochs=epochs)"
      ],
      "execution_count": 33,
      "outputs": [
        {
          "output_type": "stream",
          "text": [
            "Training model with https://tfhub.dev/tensorflow/small_bert/bert_en_uncased_L-4_H-512_A-8/1\n",
            "Epoch 1/5\n"
          ],
          "name": "stdout"
        },
        {
          "output_type": "error",
          "ename": "ValueError",
          "evalue": "ignored",
          "traceback": [
            "\u001b[0;31m---------------------------------------------------------------------------\u001b[0m",
            "\u001b[0;31mValueError\u001b[0m                                Traceback (most recent call last)",
            "\u001b[0;32m<ipython-input-33-5fd71307ea76>\u001b[0m in \u001b[0;36m<module>\u001b[0;34m()\u001b[0m\n\u001b[1;32m      2\u001b[0m history = classifier_model.fit(x=train_ds,\n\u001b[1;32m      3\u001b[0m                                \u001b[0mvalidation_data\u001b[0m\u001b[0;34m=\u001b[0m\u001b[0mvalid_ds\u001b[0m\u001b[0;34m,\u001b[0m\u001b[0;34m\u001b[0m\u001b[0;34m\u001b[0m\u001b[0m\n\u001b[0;32m----> 4\u001b[0;31m                                epochs=epochs)\n\u001b[0m",
            "\u001b[0;32m/usr/local/lib/python3.7/dist-packages/tensorflow/python/keras/engine/training.py\u001b[0m in \u001b[0;36mfit\u001b[0;34m(self, x, y, batch_size, epochs, verbose, callbacks, validation_split, validation_data, shuffle, class_weight, sample_weight, initial_epoch, steps_per_epoch, validation_steps, validation_batch_size, validation_freq, max_queue_size, workers, use_multiprocessing)\u001b[0m\n\u001b[1;32m   1098\u001b[0m                 _r=1):\n\u001b[1;32m   1099\u001b[0m               \u001b[0mcallbacks\u001b[0m\u001b[0;34m.\u001b[0m\u001b[0mon_train_batch_begin\u001b[0m\u001b[0;34m(\u001b[0m\u001b[0mstep\u001b[0m\u001b[0;34m)\u001b[0m\u001b[0;34m\u001b[0m\u001b[0;34m\u001b[0m\u001b[0m\n\u001b[0;32m-> 1100\u001b[0;31m               \u001b[0mtmp_logs\u001b[0m \u001b[0;34m=\u001b[0m \u001b[0mself\u001b[0m\u001b[0;34m.\u001b[0m\u001b[0mtrain_function\u001b[0m\u001b[0;34m(\u001b[0m\u001b[0miterator\u001b[0m\u001b[0;34m)\u001b[0m\u001b[0;34m\u001b[0m\u001b[0;34m\u001b[0m\u001b[0m\n\u001b[0m\u001b[1;32m   1101\u001b[0m               \u001b[0;32mif\u001b[0m \u001b[0mdata_handler\u001b[0m\u001b[0;34m.\u001b[0m\u001b[0mshould_sync\u001b[0m\u001b[0;34m:\u001b[0m\u001b[0;34m\u001b[0m\u001b[0;34m\u001b[0m\u001b[0m\n\u001b[1;32m   1102\u001b[0m                 \u001b[0mcontext\u001b[0m\u001b[0;34m.\u001b[0m\u001b[0masync_wait\u001b[0m\u001b[0;34m(\u001b[0m\u001b[0;34m)\u001b[0m\u001b[0;34m\u001b[0m\u001b[0;34m\u001b[0m\u001b[0m\n",
            "\u001b[0;32m/usr/local/lib/python3.7/dist-packages/tensorflow/python/eager/def_function.py\u001b[0m in \u001b[0;36m__call__\u001b[0;34m(self, *args, **kwds)\u001b[0m\n\u001b[1;32m    826\u001b[0m     \u001b[0mtracing_count\u001b[0m \u001b[0;34m=\u001b[0m \u001b[0mself\u001b[0m\u001b[0;34m.\u001b[0m\u001b[0mexperimental_get_tracing_count\u001b[0m\u001b[0;34m(\u001b[0m\u001b[0;34m)\u001b[0m\u001b[0;34m\u001b[0m\u001b[0;34m\u001b[0m\u001b[0m\n\u001b[1;32m    827\u001b[0m     \u001b[0;32mwith\u001b[0m \u001b[0mtrace\u001b[0m\u001b[0;34m.\u001b[0m\u001b[0mTrace\u001b[0m\u001b[0;34m(\u001b[0m\u001b[0mself\u001b[0m\u001b[0;34m.\u001b[0m\u001b[0m_name\u001b[0m\u001b[0;34m)\u001b[0m \u001b[0;32mas\u001b[0m \u001b[0mtm\u001b[0m\u001b[0;34m:\u001b[0m\u001b[0;34m\u001b[0m\u001b[0;34m\u001b[0m\u001b[0m\n\u001b[0;32m--> 828\u001b[0;31m       \u001b[0mresult\u001b[0m \u001b[0;34m=\u001b[0m \u001b[0mself\u001b[0m\u001b[0;34m.\u001b[0m\u001b[0m_call\u001b[0m\u001b[0;34m(\u001b[0m\u001b[0;34m*\u001b[0m\u001b[0margs\u001b[0m\u001b[0;34m,\u001b[0m \u001b[0;34m**\u001b[0m\u001b[0mkwds\u001b[0m\u001b[0;34m)\u001b[0m\u001b[0;34m\u001b[0m\u001b[0;34m\u001b[0m\u001b[0m\n\u001b[0m\u001b[1;32m    829\u001b[0m       \u001b[0mcompiler\u001b[0m \u001b[0;34m=\u001b[0m \u001b[0;34m\"xla\"\u001b[0m \u001b[0;32mif\u001b[0m \u001b[0mself\u001b[0m\u001b[0;34m.\u001b[0m\u001b[0m_experimental_compile\u001b[0m \u001b[0;32melse\u001b[0m \u001b[0;34m\"nonXla\"\u001b[0m\u001b[0;34m\u001b[0m\u001b[0;34m\u001b[0m\u001b[0m\n\u001b[1;32m    830\u001b[0m       \u001b[0mnew_tracing_count\u001b[0m \u001b[0;34m=\u001b[0m \u001b[0mself\u001b[0m\u001b[0;34m.\u001b[0m\u001b[0mexperimental_get_tracing_count\u001b[0m\u001b[0;34m(\u001b[0m\u001b[0;34m)\u001b[0m\u001b[0;34m\u001b[0m\u001b[0;34m\u001b[0m\u001b[0m\n",
            "\u001b[0;32m/usr/local/lib/python3.7/dist-packages/tensorflow/python/eager/def_function.py\u001b[0m in \u001b[0;36m_call\u001b[0;34m(self, *args, **kwds)\u001b[0m\n\u001b[1;32m    869\u001b[0m       \u001b[0;31m# This is the first call of __call__, so we have to initialize.\u001b[0m\u001b[0;34m\u001b[0m\u001b[0;34m\u001b[0m\u001b[0;34m\u001b[0m\u001b[0m\n\u001b[1;32m    870\u001b[0m       \u001b[0minitializers\u001b[0m \u001b[0;34m=\u001b[0m \u001b[0;34m[\u001b[0m\u001b[0;34m]\u001b[0m\u001b[0;34m\u001b[0m\u001b[0;34m\u001b[0m\u001b[0m\n\u001b[0;32m--> 871\u001b[0;31m       \u001b[0mself\u001b[0m\u001b[0;34m.\u001b[0m\u001b[0m_initialize\u001b[0m\u001b[0;34m(\u001b[0m\u001b[0margs\u001b[0m\u001b[0;34m,\u001b[0m \u001b[0mkwds\u001b[0m\u001b[0;34m,\u001b[0m \u001b[0madd_initializers_to\u001b[0m\u001b[0;34m=\u001b[0m\u001b[0minitializers\u001b[0m\u001b[0;34m)\u001b[0m\u001b[0;34m\u001b[0m\u001b[0;34m\u001b[0m\u001b[0m\n\u001b[0m\u001b[1;32m    872\u001b[0m     \u001b[0;32mfinally\u001b[0m\u001b[0;34m:\u001b[0m\u001b[0;34m\u001b[0m\u001b[0;34m\u001b[0m\u001b[0m\n\u001b[1;32m    873\u001b[0m       \u001b[0;31m# At this point we know that the initialization is complete (or less\u001b[0m\u001b[0;34m\u001b[0m\u001b[0;34m\u001b[0m\u001b[0;34m\u001b[0m\u001b[0m\n",
            "\u001b[0;32m/usr/local/lib/python3.7/dist-packages/tensorflow/python/eager/def_function.py\u001b[0m in \u001b[0;36m_initialize\u001b[0;34m(self, args, kwds, add_initializers_to)\u001b[0m\n\u001b[1;32m    724\u001b[0m     self._concrete_stateful_fn = (\n\u001b[1;32m    725\u001b[0m         self._stateful_fn._get_concrete_function_internal_garbage_collected(  # pylint: disable=protected-access\n\u001b[0;32m--> 726\u001b[0;31m             *args, **kwds))\n\u001b[0m\u001b[1;32m    727\u001b[0m \u001b[0;34m\u001b[0m\u001b[0m\n\u001b[1;32m    728\u001b[0m     \u001b[0;32mdef\u001b[0m \u001b[0minvalid_creator_scope\u001b[0m\u001b[0;34m(\u001b[0m\u001b[0;34m*\u001b[0m\u001b[0munused_args\u001b[0m\u001b[0;34m,\u001b[0m \u001b[0;34m**\u001b[0m\u001b[0munused_kwds\u001b[0m\u001b[0;34m)\u001b[0m\u001b[0;34m:\u001b[0m\u001b[0;34m\u001b[0m\u001b[0;34m\u001b[0m\u001b[0m\n",
            "\u001b[0;32m/usr/local/lib/python3.7/dist-packages/tensorflow/python/eager/function.py\u001b[0m in \u001b[0;36m_get_concrete_function_internal_garbage_collected\u001b[0;34m(self, *args, **kwargs)\u001b[0m\n\u001b[1;32m   2967\u001b[0m       \u001b[0margs\u001b[0m\u001b[0;34m,\u001b[0m \u001b[0mkwargs\u001b[0m \u001b[0;34m=\u001b[0m \u001b[0;32mNone\u001b[0m\u001b[0;34m,\u001b[0m \u001b[0;32mNone\u001b[0m\u001b[0;34m\u001b[0m\u001b[0;34m\u001b[0m\u001b[0m\n\u001b[1;32m   2968\u001b[0m     \u001b[0;32mwith\u001b[0m \u001b[0mself\u001b[0m\u001b[0;34m.\u001b[0m\u001b[0m_lock\u001b[0m\u001b[0;34m:\u001b[0m\u001b[0;34m\u001b[0m\u001b[0;34m\u001b[0m\u001b[0m\n\u001b[0;32m-> 2969\u001b[0;31m       \u001b[0mgraph_function\u001b[0m\u001b[0;34m,\u001b[0m \u001b[0m_\u001b[0m \u001b[0;34m=\u001b[0m \u001b[0mself\u001b[0m\u001b[0;34m.\u001b[0m\u001b[0m_maybe_define_function\u001b[0m\u001b[0;34m(\u001b[0m\u001b[0margs\u001b[0m\u001b[0;34m,\u001b[0m \u001b[0mkwargs\u001b[0m\u001b[0;34m)\u001b[0m\u001b[0;34m\u001b[0m\u001b[0;34m\u001b[0m\u001b[0m\n\u001b[0m\u001b[1;32m   2970\u001b[0m     \u001b[0;32mreturn\u001b[0m \u001b[0mgraph_function\u001b[0m\u001b[0;34m\u001b[0m\u001b[0;34m\u001b[0m\u001b[0m\n\u001b[1;32m   2971\u001b[0m \u001b[0;34m\u001b[0m\u001b[0m\n",
            "\u001b[0;32m/usr/local/lib/python3.7/dist-packages/tensorflow/python/eager/function.py\u001b[0m in \u001b[0;36m_maybe_define_function\u001b[0;34m(self, args, kwargs)\u001b[0m\n\u001b[1;32m   3359\u001b[0m \u001b[0;34m\u001b[0m\u001b[0m\n\u001b[1;32m   3360\u001b[0m           \u001b[0mself\u001b[0m\u001b[0;34m.\u001b[0m\u001b[0m_function_cache\u001b[0m\u001b[0;34m.\u001b[0m\u001b[0mmissed\u001b[0m\u001b[0;34m.\u001b[0m\u001b[0madd\u001b[0m\u001b[0;34m(\u001b[0m\u001b[0mcall_context_key\u001b[0m\u001b[0;34m)\u001b[0m\u001b[0;34m\u001b[0m\u001b[0;34m\u001b[0m\u001b[0m\n\u001b[0;32m-> 3361\u001b[0;31m           \u001b[0mgraph_function\u001b[0m \u001b[0;34m=\u001b[0m \u001b[0mself\u001b[0m\u001b[0;34m.\u001b[0m\u001b[0m_create_graph_function\u001b[0m\u001b[0;34m(\u001b[0m\u001b[0margs\u001b[0m\u001b[0;34m,\u001b[0m \u001b[0mkwargs\u001b[0m\u001b[0;34m)\u001b[0m\u001b[0;34m\u001b[0m\u001b[0;34m\u001b[0m\u001b[0m\n\u001b[0m\u001b[1;32m   3362\u001b[0m           \u001b[0mself\u001b[0m\u001b[0;34m.\u001b[0m\u001b[0m_function_cache\u001b[0m\u001b[0;34m.\u001b[0m\u001b[0mprimary\u001b[0m\u001b[0;34m[\u001b[0m\u001b[0mcache_key\u001b[0m\u001b[0;34m]\u001b[0m \u001b[0;34m=\u001b[0m \u001b[0mgraph_function\u001b[0m\u001b[0;34m\u001b[0m\u001b[0;34m\u001b[0m\u001b[0m\n\u001b[1;32m   3363\u001b[0m \u001b[0;34m\u001b[0m\u001b[0m\n",
            "\u001b[0;32m/usr/local/lib/python3.7/dist-packages/tensorflow/python/eager/function.py\u001b[0m in \u001b[0;36m_create_graph_function\u001b[0;34m(self, args, kwargs, override_flat_arg_shapes)\u001b[0m\n\u001b[1;32m   3204\u001b[0m             \u001b[0marg_names\u001b[0m\u001b[0;34m=\u001b[0m\u001b[0marg_names\u001b[0m\u001b[0;34m,\u001b[0m\u001b[0;34m\u001b[0m\u001b[0;34m\u001b[0m\u001b[0m\n\u001b[1;32m   3205\u001b[0m             \u001b[0moverride_flat_arg_shapes\u001b[0m\u001b[0;34m=\u001b[0m\u001b[0moverride_flat_arg_shapes\u001b[0m\u001b[0;34m,\u001b[0m\u001b[0;34m\u001b[0m\u001b[0;34m\u001b[0m\u001b[0m\n\u001b[0;32m-> 3206\u001b[0;31m             capture_by_value=self._capture_by_value),\n\u001b[0m\u001b[1;32m   3207\u001b[0m         \u001b[0mself\u001b[0m\u001b[0;34m.\u001b[0m\u001b[0m_function_attributes\u001b[0m\u001b[0;34m,\u001b[0m\u001b[0;34m\u001b[0m\u001b[0;34m\u001b[0m\u001b[0m\n\u001b[1;32m   3208\u001b[0m         \u001b[0mfunction_spec\u001b[0m\u001b[0;34m=\u001b[0m\u001b[0mself\u001b[0m\u001b[0;34m.\u001b[0m\u001b[0mfunction_spec\u001b[0m\u001b[0;34m,\u001b[0m\u001b[0;34m\u001b[0m\u001b[0;34m\u001b[0m\u001b[0m\n",
            "\u001b[0;32m/usr/local/lib/python3.7/dist-packages/tensorflow/python/framework/func_graph.py\u001b[0m in \u001b[0;36mfunc_graph_from_py_func\u001b[0;34m(name, python_func, args, kwargs, signature, func_graph, autograph, autograph_options, add_control_dependencies, arg_names, op_return_value, collections, capture_by_value, override_flat_arg_shapes)\u001b[0m\n\u001b[1;32m    988\u001b[0m         \u001b[0m_\u001b[0m\u001b[0;34m,\u001b[0m \u001b[0moriginal_func\u001b[0m \u001b[0;34m=\u001b[0m \u001b[0mtf_decorator\u001b[0m\u001b[0;34m.\u001b[0m\u001b[0munwrap\u001b[0m\u001b[0;34m(\u001b[0m\u001b[0mpython_func\u001b[0m\u001b[0;34m)\u001b[0m\u001b[0;34m\u001b[0m\u001b[0;34m\u001b[0m\u001b[0m\n\u001b[1;32m    989\u001b[0m \u001b[0;34m\u001b[0m\u001b[0m\n\u001b[0;32m--> 990\u001b[0;31m       \u001b[0mfunc_outputs\u001b[0m \u001b[0;34m=\u001b[0m \u001b[0mpython_func\u001b[0m\u001b[0;34m(\u001b[0m\u001b[0;34m*\u001b[0m\u001b[0mfunc_args\u001b[0m\u001b[0;34m,\u001b[0m \u001b[0;34m**\u001b[0m\u001b[0mfunc_kwargs\u001b[0m\u001b[0;34m)\u001b[0m\u001b[0;34m\u001b[0m\u001b[0;34m\u001b[0m\u001b[0m\n\u001b[0m\u001b[1;32m    991\u001b[0m \u001b[0;34m\u001b[0m\u001b[0m\n\u001b[1;32m    992\u001b[0m       \u001b[0;31m# invariant: `func_outputs` contains only Tensors, CompositeTensors,\u001b[0m\u001b[0;34m\u001b[0m\u001b[0;34m\u001b[0m\u001b[0;34m\u001b[0m\u001b[0m\n",
            "\u001b[0;32m/usr/local/lib/python3.7/dist-packages/tensorflow/python/eager/def_function.py\u001b[0m in \u001b[0;36mwrapped_fn\u001b[0;34m(*args, **kwds)\u001b[0m\n\u001b[1;32m    632\u001b[0m             \u001b[0mxla_context\u001b[0m\u001b[0;34m.\u001b[0m\u001b[0mExit\u001b[0m\u001b[0;34m(\u001b[0m\u001b[0;34m)\u001b[0m\u001b[0;34m\u001b[0m\u001b[0;34m\u001b[0m\u001b[0m\n\u001b[1;32m    633\u001b[0m         \u001b[0;32melse\u001b[0m\u001b[0;34m:\u001b[0m\u001b[0;34m\u001b[0m\u001b[0;34m\u001b[0m\u001b[0m\n\u001b[0;32m--> 634\u001b[0;31m           \u001b[0mout\u001b[0m \u001b[0;34m=\u001b[0m \u001b[0mweak_wrapped_fn\u001b[0m\u001b[0;34m(\u001b[0m\u001b[0;34m)\u001b[0m\u001b[0;34m.\u001b[0m\u001b[0m__wrapped__\u001b[0m\u001b[0;34m(\u001b[0m\u001b[0;34m*\u001b[0m\u001b[0margs\u001b[0m\u001b[0;34m,\u001b[0m \u001b[0;34m**\u001b[0m\u001b[0mkwds\u001b[0m\u001b[0;34m)\u001b[0m\u001b[0;34m\u001b[0m\u001b[0;34m\u001b[0m\u001b[0m\n\u001b[0m\u001b[1;32m    635\u001b[0m         \u001b[0;32mreturn\u001b[0m \u001b[0mout\u001b[0m\u001b[0;34m\u001b[0m\u001b[0;34m\u001b[0m\u001b[0m\n\u001b[1;32m    636\u001b[0m \u001b[0;34m\u001b[0m\u001b[0m\n",
            "\u001b[0;32m/usr/local/lib/python3.7/dist-packages/tensorflow/python/framework/func_graph.py\u001b[0m in \u001b[0;36mwrapper\u001b[0;34m(*args, **kwargs)\u001b[0m\n\u001b[1;32m    975\u001b[0m           \u001b[0;32mexcept\u001b[0m \u001b[0mException\u001b[0m \u001b[0;32mas\u001b[0m \u001b[0me\u001b[0m\u001b[0;34m:\u001b[0m  \u001b[0;31m# pylint:disable=broad-except\u001b[0m\u001b[0;34m\u001b[0m\u001b[0;34m\u001b[0m\u001b[0m\n\u001b[1;32m    976\u001b[0m             \u001b[0;32mif\u001b[0m \u001b[0mhasattr\u001b[0m\u001b[0;34m(\u001b[0m\u001b[0me\u001b[0m\u001b[0;34m,\u001b[0m \u001b[0;34m\"ag_error_metadata\"\u001b[0m\u001b[0;34m)\u001b[0m\u001b[0;34m:\u001b[0m\u001b[0;34m\u001b[0m\u001b[0;34m\u001b[0m\u001b[0m\n\u001b[0;32m--> 977\u001b[0;31m               \u001b[0;32mraise\u001b[0m \u001b[0me\u001b[0m\u001b[0;34m.\u001b[0m\u001b[0mag_error_metadata\u001b[0m\u001b[0;34m.\u001b[0m\u001b[0mto_exception\u001b[0m\u001b[0;34m(\u001b[0m\u001b[0me\u001b[0m\u001b[0;34m)\u001b[0m\u001b[0;34m\u001b[0m\u001b[0;34m\u001b[0m\u001b[0m\n\u001b[0m\u001b[1;32m    978\u001b[0m             \u001b[0;32melse\u001b[0m\u001b[0;34m:\u001b[0m\u001b[0;34m\u001b[0m\u001b[0;34m\u001b[0m\u001b[0m\n\u001b[1;32m    979\u001b[0m               \u001b[0;32mraise\u001b[0m\u001b[0;34m\u001b[0m\u001b[0;34m\u001b[0m\u001b[0m\n",
            "\u001b[0;31mValueError\u001b[0m: in user code:\n\n    /usr/local/lib/python3.7/dist-packages/tensorflow/python/keras/engine/training.py:805 train_function  *\n        return step_function(self, iterator)\n    /usr/local/lib/python3.7/dist-packages/tensorflow_hub/keras_layer.py:235 call  *\n        result = smart_cond.smart_cond(training,\n    /usr/local/lib/python3.7/dist-packages/tensorflow/python/saved_model/load.py:668 _call_attribute  **\n        return instance.__call__(*args, **kwargs)\n    /usr/local/lib/python3.7/dist-packages/tensorflow/python/eager/def_function.py:828 __call__\n        result = self._call(*args, **kwds)\n    /usr/local/lib/python3.7/dist-packages/tensorflow/python/eager/def_function.py:862 _call\n        results = self._stateful_fn(*args, **kwds)\n    /usr/local/lib/python3.7/dist-packages/tensorflow/python/eager/function.py:2941 __call__\n        filtered_flat_args) = self._maybe_define_function(args, kwargs)\n    /usr/local/lib/python3.7/dist-packages/tensorflow/python/eager/function.py:3361 _maybe_define_function\n        graph_function = self._create_graph_function(args, kwargs)\n    /usr/local/lib/python3.7/dist-packages/tensorflow/python/eager/function.py:3206 _create_graph_function\n        capture_by_value=self._capture_by_value),\n    /usr/local/lib/python3.7/dist-packages/tensorflow/python/framework/func_graph.py:990 func_graph_from_py_func\n        func_outputs = python_func(*func_args, **func_kwargs)\n    /usr/local/lib/python3.7/dist-packages/tensorflow/python/eager/def_function.py:634 wrapped_fn\n        out = weak_wrapped_fn().__wrapped__(*args, **kwds)\n    /usr/local/lib/python3.7/dist-packages/tensorflow/python/saved_model/function_deserialization.py:273 restored_function_body\n        \"\\n\\n\".join(signature_descriptions)))\n\n    ValueError: Could not find matching function to call loaded from the SavedModel. Got:\n      Positional arguments (3 total):\n        * Tensor(\"inputs:0\", shape=(), dtype=string)\n        * False\n        * None\n      Keyword arguments: {}\n    \n    Expected these arguments to match one of the following 4 option(s):\n    \n    Option 1:\n      Positional arguments (3 total):\n        * TensorSpec(shape=(None,), dtype=tf.string, name='sentences')\n        * False\n        * None\n      Keyword arguments: {}\n    \n    Option 2:\n      Positional arguments (3 total):\n        * TensorSpec(shape=(None,), dtype=tf.string, name='sentences')\n        * True\n        * None\n      Keyword arguments: {}\n    \n    Option 3:\n      Positional arguments (3 total):\n        * TensorSpec(shape=(None,), dtype=tf.string, name='inputs')\n        * False\n        * None\n      Keyword arguments: {}\n    \n    Option 4:\n      Positional arguments (3 total):\n        * TensorSpec(shape=(None,), dtype=tf.string, name='inputs')\n        * True\n        * None\n      Keyword arguments: {}\n"
          ]
        }
      ]
    }
  ]
}